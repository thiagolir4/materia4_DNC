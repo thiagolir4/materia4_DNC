{
  "cells": [
    {
      "cell_type": "markdown",
      "metadata": {
        "id": "view-in-github",
        "colab_type": "text"
      },
      "source": [
        "<a href=\"https://colab.research.google.com/github/thiagolir4/materia4_DNC/blob/main/Python_Basico_mat%C3%A9ria_4_DNC.ipynb\" target=\"_parent\"><img src=\"https://colab.research.google.com/assets/colab-badge.svg\" alt=\"Open In Colab\"/></a>"
      ]
    },
    {
      "cell_type": "markdown",
      "metadata": {
        "id": "sp2qiDlD-t_Q"
      },
      "source": [
        "# **PRIMEIRA MATEIRA**\n"
      ]
    },
    {
      "cell_type": "code",
      "execution_count": null,
      "metadata": {
        "colab": {
          "base_uri": "https://localhost:8080/"
        },
        "id": "V81aagmZsUqr",
        "outputId": "780ef373-e8e8-4dd0-c343-303ab158bb39"
      },
      "outputs": [
        {
          "name": "stdout",
          "output_type": "stream",
          "text": [
            "Isso é um teste \n"
          ]
        }
      ],
      "source": [
        "print (\"Isso é um teste \")"
      ]
    },
    {
      "cell_type": "code",
      "execution_count": null,
      "metadata": {
        "colab": {
          "base_uri": "https://localhost:8080/"
        },
        "id": "9TnXxWE7trqr",
        "outputId": "38b1395a-03ac-4c52-fc7b-48edd55cb85e"
      },
      "outputs": [
        {
          "name": "stdout",
          "output_type": "stream",
          "text": [
            "Digite a largura do retângulo: 5.5\n",
            "Digite a altura do retângulo: 2.7\n",
            "Area:  14.85\n"
          ]
        }
      ],
      "source": [
        "largura = float(input(\"Digite a largura do retângulo: \"))\n",
        "altura = float(input(\"Digite a altura do retângulo: \"))\n",
        "area = largura * altura\n",
        "metrica = \"Area: \"\n",
        "#print(\"A área do retângulo é:\", area, sep=';')\n",
        "#usando fstring com python\n",
        "print (f\"{metrica} {area:.2f}\")"
      ]
    },
    {
      "cell_type": "code",
      "execution_count": null,
      "metadata": {
        "colab": {
          "base_uri": "https://localhost:8080/"
        },
        "id": "ewNPQ3gjtq-V",
        "outputId": "4cd42f52-2a2b-4cbf-b4c8-b7dfa5d04423"
      },
      "outputs": [
        {
          "name": "stdout",
          "output_type": "stream",
          "text": [
            "Digite a nota da p1: 5\n",
            "Digite a nota da p2: 10\n",
            "A média é: 7.5\n"
          ]
        }
      ],
      "source": [
        "nota1 = float(input(\"Digite a nota da p1: \"))\n",
        "nota2 = float(input(\"Digite a nota da p2: \"))\n",
        "media = (nota1 + nota2) / 2\n",
        "print(\"A média é:\", media)"
      ]
    },
    {
      "cell_type": "code",
      "execution_count": null,
      "metadata": {
        "colab": {
          "base_uri": "https://localhost:8080/"
        },
        "id": "tp2Aghy36cvs",
        "outputId": "5e9d9389-303d-4099-f5ff-54791a1f6f7d"
      },
      "outputs": [
        {
          "name": "stdout",
          "output_type": "stream",
          "text": [
            "Valor em reais  R$1,457.87\n"
          ]
        }
      ],
      "source": [
        "valor_monetario = 1457.87456\n",
        "print (f\"Valor em reais  R${valor_monetario:,.2f}\")"
      ]
    },
    {
      "cell_type": "markdown",
      "metadata": {
        "id": "Jxb9qosn-G6M"
      },
      "source": [
        "TESTE PARA VER SE ESTAVA SALVANDO\n"
      ]
    },
    {
      "cell_type": "markdown",
      "metadata": {
        "id": "God8pw3r-xrv"
      },
      "source": [
        "# DESAFIO - LISTA DE TAREFAS  "
      ]
    },
    {
      "cell_type": "code",
      "execution_count": null,
      "metadata": {
        "colab": {
          "base_uri": "https://localhost:8080/"
        },
        "id": "LzFFNdvA--2J",
        "outputId": "16bbe476-8d69-4600-d5fe-508c4a40a11d"
      },
      "outputs": [
        {
          "name": "stdout",
          "output_type": "stream",
          "text": [
            "Digite uma tarefa: estudar python\n",
            "A tarefa foi adicionada!\n",
            "A tarefa adicionada foi: estudar python \n"
          ]
        }
      ],
      "source": [
        "tarefa = input(\"Digite uma tarefa: \")\n",
        "print(\"A tarefa foi adicionada!\")\n",
        "print (f\"A tarefa adicionada foi: {tarefa} \")"
      ]
    },
    {
      "cell_type": "code",
      "execution_count": null,
      "metadata": {
        "colab": {
          "base_uri": "https://localhost:8080/"
        },
        "id": "11kvcRq2Sk7n",
        "outputId": "bb1679dd-aa0f-4dcd-d1d0-6f3793f51104"
      },
      "outputs": [
        {
          "name": "stdout",
          "output_type": "stream",
          "text": [
            "Digite uma tarefa ou sair para finalizar o progarama: teste\n",
            "A tarefa adicionada foi: teste \n",
            "Digite uma tarefa ou sair para finalizar o progarama: trabalhat\n",
            "A tarefa adicionada foi: trabalhat \n",
            "Digite uma tarefa ou sair para finalizar o progarama: estudar\n",
            "A tarefa adicionada foi: estudar \n",
            "Digite uma tarefa ou sair para finalizar o progarama: sair\n",
            "A ultima tarefa odicionada antes do programa finalizar foi estudar\n",
            "Programa finalizado!\n"
          ]
        }
      ],
      "source": [
        "while True:\n",
        "  opcao = input(\"Digite uma tarefa ou sair para finalizar o progarama: \")\n",
        "  if opcao.lower() == \"sair\":\n",
        "    break\n",
        "  tarefa = opcao\n",
        "  print(f\"A tarefa adicionada foi: {tarefa} \")\n",
        "print(f\"A ultima tarefa odicionada antes do programa finalizar foi {tarefa}\")\n",
        "print(\"Programa finalizado!\")"
      ]
    },
    {
      "cell_type": "code",
      "execution_count": null,
      "metadata": {
        "id": "3zpG8oBPLRrw"
      },
      "outputs": [],
      "source": [
        "tarefas = []\n",
        "\n",
        "while True:\n",
        "  print(\" \")\n",
        "  print(\"**Menu de Opções**\")\n",
        "  print(\"1. Adicionar tarefa\")\n",
        "  print(\"2. Listar tarefas\")\n",
        "  print(\"3. Remover tarefas\")\n",
        "  print(\"4. Sair\")\n",
        "  opcao = input(\"Escolha uma opção: \")\n",
        "  if opcao == \"1\":\n",
        "    nome = input(\"Digite o nome da tarefa: \").upper()\n",
        "    prioridade = input(\"Digite a prioridade da tarefa: \").upper()\n",
        "    tarefa = {\n",
        "        \"nome\": nome,\n",
        "        \"prioridade\": prioridade\n",
        "    }\n",
        "    tarefas.append(tarefa)\n",
        "    print(\" \")\n",
        "    print(\"A tarefa foi adicionada!\")\n",
        "    print(f\"A tarefa adicionada foi: {tarefa}\")\n",
        "  elif opcao == \"2\":\n",
        "    print(\" \")\n",
        "    print(\"--Lista de tarefas: \")\n",
        "    for tarefa in tarefas:\n",
        "      print(f\"- Tarefa: {tarefa['nome']} - (Prioridade){tarefa['prioridade']}\")\n",
        "  elif opcao == \"3\":\n",
        "    nome = input(\"Digite o nome da tarefa que deseja remover: \").upper()\n",
        "    for tarefa in tarefas:\n",
        "      if tarefa['nome'] == nome:\n",
        "        tarefas.remove(tarefa)\n",
        "        print(\" \")\n",
        "        print(f\"A tarefa {nome} foi removida!\")\n",
        "        break\n",
        "    else:\n",
        "      print(\" \")\n",
        "      print(\"Tarefa não encontrada\")\n",
        "  elif opcao ==\"4\":\n",
        "    print(\"Programa finalizado!\")\n",
        "    break\n",
        "  else:\n",
        "    print(\"Opção inválida. Tente novamente.\")\n",
        "\n",
        "\n"
      ]
    },
    {
      "cell_type": "code",
      "execution_count": null,
      "metadata": {
        "colab": {
          "base_uri": "https://localhost:8080/"
        },
        "id": "oC-f9TQprjzJ",
        "outputId": "4ab8a577-d5b0-4f72-9195-f1aa440f40bf"
      },
      "outputs": [
        {
          "name": "stdout",
          "output_type": "stream",
          "text": [
            " \n",
            "**Menu de Opções**\n",
            "1. Adicionar tarefa\n",
            "2. Listar tarefas\n",
            "3. Remover tarefas\n",
            "4. Sair\n",
            "Escolha uma opção: 1\n",
            "Digite o nome da tarefa: estudar python\n",
            "Digite a prioridade da tarefa: alta\n",
            "Tarefa adicionada: {'nome': 'ESTUDAR PYTHON', 'prioridade': 'ALTA'}\n",
            " \n",
            "**Menu de Opções**\n",
            "1. Adicionar tarefa\n",
            "2. Listar tarefas\n",
            "3. Remover tarefas\n",
            "4. Sair\n",
            "Escolha uma opção: 2\n",
            " \n",
            "Lista de tarefas:\n",
            "- ESTUDAR PYTHON (Prioridade: ALTA)\n",
            " \n",
            "**Menu de Opções**\n",
            "1. Adicionar tarefa\n",
            "2. Listar tarefas\n",
            "3. Remover tarefas\n",
            "4. Sair\n",
            "Escolha uma opção: 3\n",
            "Digite o nome da tarefa que deseja remover: estudar python\n",
            "Tarefa removida: {'nome': 'ESTUDAR PYTHON', 'prioridade': 'ALTA'}\n",
            " \n",
            "**Menu de Opções**\n",
            "1. Adicionar tarefa\n",
            "2. Listar tarefas\n",
            "3. Remover tarefas\n",
            "4. Sair\n",
            "Escolha uma opção: 4\n",
            "Programa finalizado!\n"
          ]
        }
      ],
      "source": [
        "#ADICIONANDO FUNÇÕES PARA O PROGRAMA\n",
        "tarefas = []\n",
        "\n",
        "def adicionar_tarefa(nome, prioridade):\n",
        "  tarefa = {\n",
        "      \"nome\": nome,\n",
        "      \"prioridade\": prioridade\n",
        "  }\n",
        "  tarefas.append(tarefa)\n",
        "  print(\"Tarefa adicionada:\", tarefa)\n",
        "\n",
        "def listar_tarefas():\n",
        "  print(\"Lista de tarefas:\")\n",
        "  for tarefa in tarefas:\n",
        "    print(f\"- {tarefa['nome']} (Prioridade: {tarefa['prioridade']})\")\n",
        "\n",
        "def remover_tarefa(nome):\n",
        "  for tarefa in tarefas:\n",
        "    if tarefa['nome'] == nome:\n",
        "      tarefas.remove(tarefa)\n",
        "      print(\"Tarefa removida:\", tarefa)\n",
        "    else:\n",
        "      print(\"Tarefa não encontrada.\")\n",
        "while True:\n",
        "  print(\" \")\n",
        "  print(\"**Menu de Opções**\")\n",
        "  print(\"1. Adicionar tarefa\")\n",
        "  print(\"2. Listar tarefas\")\n",
        "  print(\"3. Remover tarefas\")\n",
        "  print(\"4. Sair\")\n",
        "  opcao = input(\"Escolha uma opção: \")\n",
        "  if opcao == \"1\":\n",
        "    nome = input(\"Digite o nome da tarefa: \").upper()\n",
        "    prioridade = input(\"Digite a prioridade da tarefa: \").upper()\n",
        "    adicionar_tarefa(nome, prioridade)\n",
        "  elif opcao == \"2\":\n",
        "    print(\" \")\n",
        "    listar_tarefas()\n",
        "  elif opcao == \"3\":\n",
        "    nome = input(\"Digite o nome da tarefa que deseja remover: \").upper()\n",
        "    remover_tarefa(nome)\n",
        "  elif opcao ==\"4\":\n",
        "    print(\"Programa finalizado!\")\n",
        "    break\n",
        "  else:\n",
        "    print(\"Opção inválida. Tente novamente.\")\n",
        "\n",
        "\n"
      ]
    },
    {
      "cell_type": "markdown",
      "metadata": {
        "id": "B7ivpeOaYkxI"
      },
      "source": [
        "Incluindo Json no desafio\n"
      ]
    },
    {
      "cell_type": "code",
      "execution_count": null,
      "metadata": {
        "colab": {
          "base_uri": "https://localhost:8080/"
        },
        "id": "18CopFOvYn_5",
        "outputId": "024799a6-1170-43fa-8945-c8e0d275ef8a"
      },
      "outputs": [
        {
          "name": "stdout",
          "output_type": "stream",
          "text": [
            "Tarefas carregadas com sucessso!\n",
            " \n",
            "**Menu de Opções**\n",
            "1. Adicionar tarefa\n",
            "2. Listar tarefas\n",
            "3. Remover tarefas\n",
            "4. Salvar tarefas\n",
            "5. Sair\n",
            "Escolha uma opção: 5\n",
            "Programa finalizado!\n"
          ]
        }
      ],
      "source": [
        "#ADICIONANDO JSON PARA O PROGRAMA\n",
        "import json\n",
        "tarefas = []\n",
        "\n",
        "#nessa função abrir um arquivo para a escrita, e salvamos a lista de tarefas nele\n",
        "def salvar_tarefas():\n",
        "  with open('tarefas.json', 'w') as arquivo:\n",
        "    json.dump(tarefas, arquivo)\n",
        "    print(\"Tarefas salvas com sucesso!\")\n",
        "#aqui carregamos o arquivo já salvo, inicializamos a função antes do laço while\n",
        "#para sempre que o codigo rodar, importar o arquivo com as tarefas salvas\n",
        "def carregar_tarefas():\n",
        "  try:\n",
        "    with open('tarefas.json', 'r') as arquivo:\n",
        "      tarefas = json.load(arquivo)\n",
        "      print(\"Tarefas carregadas com sucessso!\")\n",
        "      return tarefas\n",
        "  except:\n",
        "    print(\"Nenhum arquivo de tarefas encontrado! Começando uma nova lista ...\")\n",
        "    return []\n",
        "\n",
        "def adicionar_tarefa(nome, prioridade):\n",
        "  tarefa = {\n",
        "      \"nome\": nome,\n",
        "      \"prioridade\": prioridade\n",
        "  }\n",
        "  tarefas.append(tarefa)\n",
        "  print(\"Tarefa adicionada:\", tarefa)\n",
        "\n",
        "def listar_tarefas():\n",
        "  print(\"Lista de tarefas:\")\n",
        "  for tarefa in tarefas:\n",
        "    print(f\"- {tarefa['nome']} (Prioridade: {tarefa['prioridade']})\")\n",
        "\n",
        "def remover_tarefa(nome):\n",
        "  for tarefa in tarefas:\n",
        "    if tarefa['nome'] == nome:\n",
        "      tarefas.remove(tarefa)\n",
        "      print(\"Tarefa removida:\", tarefa)\n",
        "    else:\n",
        "      print(\"Tarefa não encontrada.\")\n",
        "\n",
        "tarefas = carregar_tarefas()\n",
        "while True:\n",
        "  print(\" \")\n",
        "  print(\"**Menu de Opções**\")\n",
        "  print(\"1. Adicionar tarefa\")\n",
        "  print(\"2. Listar tarefas\")\n",
        "  print(\"3. Remover tarefas\")\n",
        "  print(\"4. Salvar tarefas\")\n",
        "  print(\"5. Sair\")\n",
        "  opcao = input(\"Escolha uma opção: \")\n",
        "  if opcao == \"1\":\n",
        "    nome = input(\"Digite o nome da tarefa: \").upper()\n",
        "    prioridade = input(\"Digite a prioridade da tarefa: \").upper()\n",
        "    adicionar_tarefa(nome, prioridade)\n",
        "\n",
        "  elif opcao == \"2\":\n",
        "    print(\" \")\n",
        "    listar_tarefas()\n",
        "\n",
        "  elif opcao == \"3\":\n",
        "    nome = input(\"Digite o nome da tarefa que deseja remover: \").upper()\n",
        "    remover_tarefa(nome)\n",
        "\n",
        "  elif opcao == \"4\":\n",
        "    salvar_tarefas()\n",
        "  elif opcao ==\"5\":\n",
        "    print(\"Programa finalizado!\")\n",
        "    break\n",
        "  else:\n",
        "    print(\"Opção inválida. Tente novamente.\")\n",
        "\n",
        "\n"
      ]
    },
    {
      "cell_type": "markdown",
      "metadata": {
        "id": "6O7GpykvfTSY"
      },
      "source": []
    },
    {
      "cell_type": "markdown",
      "metadata": {
        "id": "KzaFTie_fZT6"
      },
      "source": [
        "# DESFIO - AGENDA DE CONTATOS"
      ]
    },
    {
      "cell_type": "code",
      "execution_count": null,
      "metadata": {
        "colab": {
          "background_save": true,
          "base_uri": "https://localhost:8080/"
        },
        "id": "jy6bDQZ1fdBC",
        "outputId": "8d0e1985-46cf-45cf-e245-e5a2fae3d391"
      },
      "outputs": [
        {
          "name": "stdout",
          "output_type": "stream",
          "text": [
            "Agenda carregada com sucesso!\n",
            "\n",
            "-- Menu da Agenda\n",
            "1. Adicionar contato\n",
            "2. Exibir Agenda\n",
            "3. Editar Contato\n",
            "4. Remover Contato\n",
            "5. Salvar Agenda\n",
            "6. Sair\n",
            "\n",
            "Lista de contatos:\n",
            "Nome: THIAGO \n",
            "Telefone: 18000000000  \n",
            "Email: 000.000000@0000000.000 \n",
            "\n",
            "Nome: TESTE \n",
            "Telefone: 18999999999  \n",
            "Email: TESTE@TESTE.COM \n",
            "\n",
            "\n",
            "-- Menu da Agenda\n",
            "1. Adicionar contato\n",
            "2. Exibir Agenda\n",
            "3. Editar Contato\n",
            "4. Remover Contato\n",
            "5. Salvar Agenda\n",
            "6. Sair\n"
          ]
        }
      ],
      "source": [
        "import json\n",
        "agenda = []\n",
        "def salvar_agenda():\n",
        "  with open('agenda.json', 'w') as arquivo:\n",
        "    json.dump(agenda, arquivo)\n",
        "    print(\"Agenda salva com sucesso!\")\n",
        "\n",
        "def carregar_agenda():\n",
        "  try:\n",
        "    with open('agenda.json', 'r') as arquivo:\n",
        "      agenda = json.load(arquivo)\n",
        "      print(\"Agenda carregada com sucesso!\")\n",
        "      return agenda\n",
        "  except:\n",
        "      print(\"Nenhum arquivo de agenda encontrado! Começando uma nova agenda ...\")\n",
        "      return []\n",
        "\n",
        "def adicionar_contato(nome, telefone, email):\n",
        "  contato = {\n",
        "      \"nome\": nome,\n",
        "      \"telefone\": telefone,\n",
        "      \"email\": email\n",
        "  }\n",
        "  agenda.append(contato)\n",
        "\n",
        "\n",
        "def exibir_contatos():\n",
        "  print(\"\\nLista de contatos:\")\n",
        "  for contato in agenda:\n",
        "    print(f\"Nome: {contato['nome']} \\nTelefone: {contato['telefone']}  \\nEmail: {contato['email']} \\n\")\n",
        "\n",
        "def editar_contato():\n",
        "  nome = input(\"Digite o nome do contato que deseja editar: \").upper()\n",
        "  for contato in agenda:\n",
        "    if contato['nome'] == nome:\n",
        "      contato['telefone'] = input(\"Digite o novo telefone: \").upper()\n",
        "      contato['email'] = input(\"Digite o novo email: \").upper()\n",
        "      print(\"Contato atualizado \\n\")\n",
        "      break\n",
        "    else:\n",
        "      print(\"Contato não encontrado.\")\n",
        "\n",
        "def remover_contato():\n",
        "  nome = input(\"Digite o nome do contato que deseja remover: \").upper()\n",
        "  for contato in agenda:\n",
        "    if contato['nome'] == nome:\n",
        "      agenda.remove(contato)\n",
        "      print(\"Contato removido \\n\")\n",
        "      break\n",
        "  else:\n",
        "    print(\"Contato não encontrado.\")\n",
        "\n",
        "agenda = carregar_agenda()\n",
        "while True:\n",
        "  print(\"\\n-- Menu da Agenda\")\n",
        "  print(\"1. Adicionar contato\")\n",
        "  print(\"2. Exibir Agenda\")\n",
        "  print(\"3. Editar Contato\")\n",
        "  print(\"4. Remover Contato\")\n",
        "  print(\"5. Salvar Agenda\")\n",
        "  print(\"6. Sair\")\n",
        "  opcao = input(\"Digite a opção desejada: \")\n",
        "\n",
        "  if opcao == \"1\":\n",
        "    nome = input(\"Digite o nome do contato: \").upper()\n",
        "    telefone = input(\"Digite o telefone do contato: \").upper()\n",
        "    email = input(\"Digite o email do contato: \").upper()\n",
        "    adicionar_contato(nome, telefone, email)\n",
        "\n",
        "  elif opcao ==\"2\":\n",
        "    exibir_contatos()\n",
        "\n",
        "  elif opcao == \"3\":\n",
        "    editar_contato()\n",
        "\n",
        "  elif opcao ==\"4\":\n",
        "    remover_contato()\n",
        "\n",
        "  elif opcao == \"5\":\n",
        "    salvar_agenda()\n",
        "\n",
        "  elif opcao == \"6\":\n",
        "    print(\"Programa finalizado!\")\n",
        "    break\n",
        "  else:\n",
        "    print(\"Opção inválida. Tente novamente.\")\n",
        "\n",
        "\n"
      ]
    },
    {
      "cell_type": "markdown",
      "metadata": {
        "id": "Ehsa0VvuFSYX"
      },
      "source": [
        "# ***Lista de EXERCICIOS***"
      ]
    },
    {
      "cell_type": "markdown",
      "metadata": {
        "id": "CUUO4AsWFbpa"
      },
      "source": [
        "***Primeio ex: Operações Basicas***"
      ]
    },
    {
      "cell_type": "code",
      "execution_count": null,
      "metadata": {
        "colab": {
          "base_uri": "https://localhost:8080/"
        },
        "id": "GCoiFNp4F59l",
        "outputId": "2b78d64a-4af6-46b7-a5a2-f2e960baa0ef"
      },
      "outputs": [
        {
          "name": "stdout",
          "output_type": "stream",
          "text": [
            "Digite o primeiro número: 8\n",
            "Digite o segundo número: 3\n",
            "A soma é: 11\n",
            "A subtração é: 5\n",
            "A multiplicação é: 24\n",
            "A divisão é: 2.6666666666666665\n",
            "A divisão inteira é: 2\n",
            "O resto da divisão é: 2\n",
            "A exponenciação é: 512\n"
          ]
        }
      ],
      "source": [
        "primeiro_numero = int(input(\"Digite o primeiro número: \"))\n",
        "segundo_numero = int(input(\"Digite o segundo número: \"))\n",
        "soma = primeiro_numero + segundo_numero\n",
        "subtracao = primeiro_numero - segundo_numero\n",
        "multiplicacao = primeiro_numero * segundo_numero\n",
        "divisão = primeiro_numero / segundo_numero\n",
        "divisao_inteira = primeiro_numero // segundo_numero\n",
        "resto_divisao = primeiro_numero % segundo_numero\n",
        "exponenciacao = primeiro_numero ** segundo_numero\n",
        "print(\"A soma é:\", soma)\n",
        "print(\"A subtração é:\", subtracao)\n",
        "print(\"A multiplicação é:\", multiplicacao)\n",
        "print(\"A divisão é:\", divisão)\n",
        "print(\"A divisão inteira é:\", divisao_inteira)\n",
        "print(\"O resto da divisão é:\", resto_divisao)\n",
        "print(\"A exponenciação é:\", exponenciacao)"
      ]
    },
    {
      "cell_type": "markdown",
      "metadata": {
        "id": "0sm8pGR_GrrY"
      },
      "source": [
        "***Segundo ex: Media de Notas***"
      ]
    },
    {
      "cell_type": "code",
      "execution_count": null,
      "metadata": {
        "colab": {
          "base_uri": "https://localhost:8080/"
        },
        "id": "xKa8XOjaGvvm",
        "outputId": "beeea047-3a4c-4606-cfbb-3dd3856fed7e"
      },
      "outputs": [
        {
          "name": "stdout",
          "output_type": "stream",
          "text": [
            "Digite a nota da p1: 7\n",
            "Digite a nota da p2: 8\n",
            "Digite a nota da p3: 6\n",
            "A média é: 7.0\n"
          ]
        }
      ],
      "source": [
        "nota1 = float(input(\"Digite a nota da p1: \"))\n",
        "nota2 = float(input(\"Digite a nota da p2: \"))\n",
        "nota3 = float(input(\"Digite a nota da p3: \"))\n",
        "media = (nota1 + nota2 + nota3) / 3\n",
        "print(\"A média é:\", media)"
      ]
    },
    {
      "cell_type": "markdown",
      "metadata": {
        "id": "M2mUWcZVHAUN"
      },
      "source": [
        "***Terceiro ex: Area de um circulo***"
      ]
    },
    {
      "cell_type": "code",
      "execution_count": null,
      "metadata": {
        "colab": {
          "base_uri": "https://localhost:8080/"
        },
        "id": "7vd9KZihHQ8c",
        "outputId": "616dcc80-b99d-4b8c-a496-5a913fdc50bf"
      },
      "outputs": [
        {
          "name": "stdout",
          "output_type": "stream",
          "text": [
            "Digite o raio de um circulo: 5\n",
            "A área do circulo é 78.54\n"
          ]
        }
      ],
      "source": [
        "import math\n",
        "raio = float(input(\"Digite o raio de um circulo: \"))\n",
        "area = math.pi * raio **2\n",
        "print(f\"A área do circulo é {area:.2f}\")\n"
      ]
    },
    {
      "cell_type": "markdown",
      "metadata": {
        "id": "nT4hU2HIzeRF"
      },
      "source": [
        "# ***Lista de EXERCICIOS LISTAS E FUNÇÕES***\n"
      ]
    },
    {
      "cell_type": "code",
      "execution_count": null,
      "metadata": {
        "colab": {
          "base_uri": "https://localhost:8080/",
          "height": 53
        },
        "id": "0bcHNJsUziMU",
        "outputId": "3c67a8b8-728a-4655-c798-77dbf9eaea5c"
      },
      "outputs": [
        {
          "name": "stdout",
          "output_type": "stream",
          "text": [
            "Digite seu nome: thiago\n"
          ]
        },
        {
          "data": {
            "application/vnd.google.colaboratory.intrinsic+json": {
              "type": "string"
            },
            "text/plain": [
              "'olá thiago, seja bem vindp!'"
            ]
          },
          "execution_count": 21,
          "metadata": {},
          "output_type": "execute_result"
        }
      ],
      "source": [
        "nome = input(\"Digite seu nome: \")\n",
        "def saudacao(saudacao):\n",
        "  return (f\"olá {nome}, seja bem vindp!\")\n",
        "saudacao(nome)\n"
      ]
    },
    {
      "cell_type": "code",
      "execution_count": null,
      "metadata": {
        "colab": {
          "base_uri": "https://localhost:8080/"
        },
        "id": "9UWKKQC90XRL",
        "outputId": "85e10e75-f87c-4e01-9018-be35a894042e"
      },
      "outputs": [
        {
          "name": "stdout",
          "output_type": "stream",
          "text": [
            "Digite um numero: 10\n",
            "Digite outro numero: 5\n"
          ]
        },
        {
          "data": {
            "text/plain": [
              "15"
            ]
          },
          "execution_count": 22,
          "metadata": {},
          "output_type": "execute_result"
        }
      ],
      "source": [
        "numero1 = int(input(\"Digite um numero: \"))\n",
        "numero2 = int(input(\"Digite outro numero: \"))\n",
        "def soma(numero1, numero2):\n",
        "  return numero1 + numero2\n",
        "soma(numero1, numero2)"
      ]
    },
    {
      "cell_type": "code",
      "execution_count": null,
      "metadata": {
        "colab": {
          "base_uri": "https://localhost:8080/"
        },
        "id": "KIVjR1qI0z_q",
        "outputId": "0226f7b7-fe47-4d55-93e1-e63376cf7886"
      },
      "outputs": [
        {
          "name": "stdout",
          "output_type": "stream",
          "text": [
            "Digite um numero para sabaer se é par ou impar: 12341235\n",
            "False\n"
          ]
        }
      ],
      "source": [
        "numero = int(input(\"Digite um numero para sabaer se é par ou impar: \"))\n",
        "def eh_par(numero):\n",
        "    return numero % 2 == 0\n",
        "print(eh_par(numero))"
      ]
    },
    {
      "cell_type": "code",
      "execution_count": null,
      "metadata": {
        "colab": {
          "base_uri": "https://localhost:8080/"
        },
        "id": "JxS-1eX91J4S",
        "outputId": "9800c3bf-78f5-472c-ed05-727e6bb875a6"
      },
      "outputs": [
        {
          "name": "stdout",
          "output_type": "stream",
          "text": [
            "Digite um numero para saber sua tabuada: 10\n",
            "10 x 1 = 10\n",
            "10 x 2 = 20\n",
            "10 x 3 = 30\n",
            "10 x 4 = 40\n",
            "10 x 5 = 50\n",
            "10 x 6 = 60\n",
            "10 x 7 = 70\n",
            "10 x 8 = 80\n",
            "10 x 9 = 90\n",
            "10 x 10 = 100\n"
          ]
        }
      ],
      "source": [
        "def tabuada(n):\n",
        "  for i in range(1, 11):\n",
        "    print(f\"{n} x {i} = {n * i}\")\n",
        "numero = int(input(\"Digite um numero para saber sua tabuada: \"))\n",
        "tabuada(numero)"
      ]
    },
    {
      "cell_type": "code",
      "execution_count": null,
      "metadata": {
        "colab": {
          "base_uri": "https://localhost:8080/"
        },
        "id": "c0SHgcU51hNi",
        "outputId": "0e2b15fd-bd4b-4aaa-8aa4-e265c201306b"
      },
      "outputs": [
        {
          "data": {
            "text/plain": [
              "50"
            ]
          },
          "execution_count": 33,
          "metadata": {},
          "output_type": "execute_result"
        }
      ],
      "source": [
        "def maior_numero(lista):\n",
        "    return max(lista)\n",
        "\n",
        "lista = [1,2,3,4,5,6,7,8,9,50]\n",
        "maior_numero(lista)"
      ]
    },
    {
      "cell_type": "code",
      "execution_count": null,
      "metadata": {
        "colab": {
          "base_uri": "https://localhost:8080/"
        },
        "id": "7Enw9fMY17uq",
        "outputId": "4fb0394a-cdf4-4bd9-8a46-0f390e19100d"
      },
      "outputs": [
        {
          "data": {
            "text/plain": [
              "8.5"
            ]
          },
          "execution_count": 34,
          "metadata": {},
          "output_type": "execute_result"
        }
      ],
      "source": [
        "def media_lista(lista):\n",
        "    return sum(lista) / len(lista)\n",
        "\n",
        "lista = [7,8,9,10]\n",
        "media_lista(lista)"
      ]
    },
    {
      "cell_type": "code",
      "execution_count": null,
      "metadata": {
        "colab": {
          "base_uri": "https://localhost:8080/"
        },
        "id": "ZRMNkr4z2MF9",
        "outputId": "fb4fffb1-dd62-4185-a870-c706df45b4f7"
      },
      "outputs": [
        {
          "data": {
            "text/plain": [
              "4"
            ]
          },
          "execution_count": 45,
          "metadata": {},
          "output_type": "execute_result"
        }
      ],
      "source": [
        "def contar_pares(lista):\n",
        "    return len([num for num in lista if num % 2 == 0])\n",
        "\n",
        "lista = [1,2,3,4,5,6,7]\n",
        "contar_pares(lista)\n"
      ]
    },
    {
      "cell_type": "code",
      "execution_count": null,
      "metadata": {
        "colab": {
          "base_uri": "https://localhost:8080/"
        },
        "id": "LLwbHLpq2Utv",
        "outputId": "4e26402d-7469-4b5e-ad0f-3e5cc52aba7a"
      },
      "outputs": [
        {
          "data": {
            "text/plain": [
              "[5, 4, 3, 2, 1]"
            ]
          },
          "execution_count": 37,
          "metadata": {},
          "output_type": "execute_result"
        }
      ],
      "source": [
        "def inverte_lista(lista):\n",
        "    return lista[::-1]\n",
        "\n",
        "lista = [1,2,3,4,5]\n",
        "inverte_lista(lista)"
      ]
    },
    {
      "cell_type": "code",
      "execution_count": null,
      "metadata": {
        "colab": {
          "base_uri": "https://localhost:8080/"
        },
        "id": "1TU-Qr8c2aDp",
        "outputId": "e3d5cf23-3cf0-489e-9690-765d6a4390c6"
      },
      "outputs": [
        {
          "data": {
            "text/plain": [
              "[1, 2, 3, 4, 5]"
            ]
          },
          "execution_count": 39,
          "metadata": {},
          "output_type": "execute_result"
        }
      ],
      "source": [
        "def remover_duplicatas(lista):\n",
        "    return list(set(lista))\n",
        "\n",
        "lista = [1,2,2,3,4,4,5]\n",
        "remover_duplicatas(lista)"
      ]
    },
    {
      "cell_type": "markdown",
      "metadata": {
        "id": "JcLGwxEcbg3b"
      },
      "source": [
        "# MEXENDO COM LISTAS\n"
      ]
    },
    {
      "cell_type": "code",
      "execution_count": null,
      "metadata": {
        "colab": {
          "base_uri": "https://localhost:8080/"
        },
        "id": "rVRPP8PFmqFF",
        "outputId": "abd649df-34d2-449f-a9bd-4ad18ce108f2"
      },
      "outputs": [
        {
          "name": "stdout",
          "output_type": "stream",
          "text": [
            "[1, 2, 3, 4, 5, 6, 7]\n"
          ]
        }
      ],
      "source": [
        "lista_nuns = [1,2,3,4,5,6,7]\n",
        "print (lista_nuns)"
      ]
    },
    {
      "cell_type": "markdown",
      "metadata": {
        "id": "mc27detOovf7"
      },
      "source": [
        "aditando lista com append, insert e remove"
      ]
    },
    {
      "cell_type": "code",
      "execution_count": null,
      "metadata": {
        "colab": {
          "base_uri": "https://localhost:8080/"
        },
        "id": "BAK7Upq8ou6t",
        "outputId": "e2984ecb-8606-4969-b12b-518e4a01550c"
      },
      "outputs": [
        {
          "name": "stdout",
          "output_type": "stream",
          "text": [
            "[1, 2, 3, 4, 5, 6, 7, 8]\n"
          ]
        }
      ],
      "source": [
        "#no append o elemento vai para a ultima posição da lista\n",
        "lista_nuns.append(8)\n",
        "print (lista_nuns)"
      ]
    },
    {
      "cell_type": "code",
      "execution_count": null,
      "metadata": {
        "colab": {
          "base_uri": "https://localhost:8080/"
        },
        "id": "iXp2DOUppFSL",
        "outputId": "7433592c-818f-4ed3-9da0-e31d8034f90a"
      },
      "outputs": [
        {
          "name": "stdout",
          "output_type": "stream",
          "text": [
            "[0, 1, 2, 3, 4, 5, 6, 7, 8]\n"
          ]
        }
      ],
      "source": [
        "#no insert precisamos passar dois parametros para incluir o elemento na lista\n",
        "#insert(posição do elemente, elemento adicionado)\n",
        "lista_nuns.insert(0,0)\n",
        "print (lista_nuns)"
      ]
    },
    {
      "cell_type": "code",
      "execution_count": null,
      "metadata": {
        "colab": {
          "base_uri": "https://localhost:8080/"
        },
        "id": "l638y_KtparL",
        "outputId": "2a4ec51d-0c7c-4233-deb0-94a8d877bce1"
      },
      "outputs": [
        {
          "name": "stdout",
          "output_type": "stream",
          "text": [
            "[0, 1, 2, 3, 4, 5, 6, 7]\n"
          ]
        }
      ],
      "source": [
        "#no remove só passamos o parametro da posição na qual queremos remover da lista\n",
        "lista_nuns.remove(8)\n",
        "print (lista_nuns)"
      ]
    },
    {
      "cell_type": "code",
      "execution_count": null,
      "metadata": {
        "colab": {
          "base_uri": "https://localhost:8080/"
        },
        "id": "wHUUUfuuqazn",
        "outputId": "f77fa0ee-6c38-42d3-afbf-8f28e3b50d83"
      },
      "outputs": [
        {
          "name": "stdout",
          "output_type": "stream",
          "text": [
            "[10, 20, 30]\n",
            "[10, 50, 30]\n"
          ]
        }
      ],
      "source": [
        "#modificando elementos da lista\n",
        "\n",
        "lista_2 = [10,20,30]\n",
        "print(lista_2)\n",
        "\n",
        "lista_2 [1] = 50\n",
        "print(lista_2)"
      ]
    },
    {
      "cell_type": "code",
      "execution_count": null,
      "metadata": {
        "colab": {
          "base_uri": "https://localhost:8080/"
        },
        "id": "AAipCqWLqm37",
        "outputId": "514e4b87-1c9c-4893-9f8c-00c8c3724687"
      },
      "outputs": [
        {
          "name": "stdout",
          "output_type": "stream",
          "text": [
            "[1, 2, 3, 4, 5, 6]\n"
          ]
        }
      ],
      "source": [
        "#concatenando listas\n",
        "lista_3 = [1,2,3]\n",
        "lista_4 = [4,5,6]\n",
        "lista_5 = lista_3 + lista_4\n",
        "print(lista_5)"
      ]
    },
    {
      "cell_type": "code",
      "execution_count": null,
      "metadata": {
        "colab": {
          "base_uri": "https://localhost:8080/"
        },
        "id": "HuETU2S6rYaH",
        "outputId": "b7861f97-8af0-4efe-e5df-2e98278dceac"
      },
      "outputs": [
        {
          "name": "stdout",
          "output_type": "stream",
          "text": [
            "[1, 2, 3, 4]\n",
            "O elemento removido foi 5\n"
          ]
        }
      ],
      "source": [
        "#pop remove o ultimo item da lista\n",
        "#a função .clear() limpa a lista\n",
        "removido = lista_5.pop()\n",
        "print(lista_5)\n",
        "print(f\"O elemento removido foi {removido}\")"
      ]
    },
    {
      "cell_type": "code",
      "execution_count": null,
      "metadata": {
        "id": "epAxd8cf1BwL"
      },
      "outputs": [],
      "source": [
        "#slicing ou fatiamento, eu consigo pegar um indecie especifico da lita\n",
        "#por exemplo no codigo lista[2:] pego tudo do segundo elemento para frente\n",
        "#ou lista[2:7] vou pegar tudo entre o parametro solicitado\n",
        "lista = [0,1,2,3,4,5,6,7,8,9]\n",
        "\n",
        "sublista = lista[2:6]"
      ]
    },
    {
      "cell_type": "code",
      "execution_count": null,
      "metadata": {
        "colab": {
          "base_uri": "https://localhost:8080/"
        },
        "id": "ufNUI73-5W-v",
        "outputId": "93c6e983-9807-4030-eee5-97860007f07f"
      },
      "outputs": [
        {
          "data": {
            "text/plain": [
              "4"
            ]
          },
          "execution_count": 21,
          "metadata": {},
          "output_type": "execute_result"
        }
      ],
      "source": [
        "#contando tamanho da lista\n",
        "len(sublista)"
      ]
    },
    {
      "cell_type": "code",
      "execution_count": null,
      "metadata": {
        "colab": {
          "base_uri": "https://localhost:8080/"
        },
        "id": "r9VA24g15hO3",
        "outputId": "f082480a-286d-4fb9-9334-f3837497e4d9"
      },
      "outputs": [
        {
          "data": {
            "text/plain": [
              "2"
            ]
          },
          "execution_count": 24,
          "metadata": {},
          "output_type": "execute_result"
        }
      ],
      "source": [
        "#contando elementos da lista\n",
        "outra_lista = [1,2,3,3,3,3,3,3,3,2,1]\n",
        "outra_lista.count(1)"
      ]
    },
    {
      "cell_type": "code",
      "execution_count": null,
      "metadata": {
        "colab": {
          "base_uri": "https://localhost:8080/"
        },
        "id": "9MynYyD46b_o",
        "outputId": "ce5deaa4-8a54-4f90-be89-ce1194954d46"
      },
      "outputs": [
        {
          "name": "stdout",
          "output_type": "stream",
          "text": [
            "[9, 8, 7, 6, 5, 4, 3, 2, 1, 0]\n"
          ]
        }
      ],
      "source": [
        "#usando reverse\n",
        "lista.reverse()\n",
        "print(lista)"
      ]
    },
    {
      "cell_type": "code",
      "execution_count": null,
      "metadata": {
        "colab": {
          "base_uri": "https://localhost:8080/"
        },
        "id": "OyZ0B4ze6UwR",
        "outputId": "f7e687f3-b411-4467-a626-d1113de24d81"
      },
      "outputs": [
        {
          "name": "stdout",
          "output_type": "stream",
          "text": [
            "9\n",
            "8\n",
            "7\n",
            "6\n",
            "5\n",
            "4\n",
            "3\n",
            "2\n",
            "1\n",
            "0\n"
          ]
        }
      ],
      "source": [
        "#usando for em listas\n",
        "for i in lista:\n",
        "  print(i)"
      ]
    },
    {
      "cell_type": "code",
      "execution_count": null,
      "metadata": {
        "colab": {
          "base_uri": "https://localhost:8080/"
        },
        "id": "Cj9EjcaB7Txy",
        "outputId": "f6d7f121-04f5-4d84-e936-1f682606cd2c"
      },
      "outputs": [
        {
          "name": "stdout",
          "output_type": "stream",
          "text": [
            "45\n"
          ]
        }
      ],
      "source": [
        "soma = 0\n",
        "\n",
        "for n in lista:\n",
        "  soma += n\n",
        "\n",
        "print (soma)"
      ]
    },
    {
      "cell_type": "code",
      "execution_count": null,
      "metadata": {
        "colab": {
          "base_uri": "https://localhost:8080/"
        },
        "id": "WW8H5wcw8Gb5",
        "outputId": "49bcc8c9-4ed7-4797-c319-ff35b81d71a3"
      },
      "outputs": [
        {
          "name": "stdout",
          "output_type": "stream",
          "text": [
            "Digite uma fruta para ser removida da lista...manga\n",
            "['banana', 'abacaxi', 'banana', 'ameixa', 'banana']\n"
          ]
        }
      ],
      "source": [
        "#usando while com lista\n",
        "lista_frutas = ['banana', 'abacaxi', 'manga','banana', 'ameixa', 'banana']\n",
        "frutaremovida = input(\"Digite uma fruta para ser removida da lista...\")\n",
        "while frutaremovida in lista_frutas:\n",
        "  lista_frutas.remove(frutaremovida)\n",
        "\n",
        "print(lista_frutas)"
      ]
    },
    {
      "cell_type": "markdown",
      "metadata": {
        "id": "W_f7nMmz23aL"
      },
      "source": [
        "# MEXENDO COM TUPLAS\n"
      ]
    },
    {
      "cell_type": "code",
      "execution_count": null,
      "metadata": {
        "colab": {
          "base_uri": "https://localhost:8080/"
        },
        "id": "vRFOvE0g263s",
        "outputId": "00c86113-dc5d-4bc6-de4d-9b9f47bd1e78"
      },
      "outputs": [
        {
          "data": {
            "text/plain": [
              "3"
            ]
          },
          "execution_count": 43,
          "metadata": {},
          "output_type": "execute_result"
        }
      ],
      "source": [
        "tupla_numeros = (1,2,3,4,5,6,7)\n",
        "tupla_variadas = (\"banara\", 1, 2.5, True)\n",
        "tupla_numeros[2]"
      ]
    },
    {
      "cell_type": "code",
      "execution_count": null,
      "metadata": {
        "colab": {
          "base_uri": "https://localhost:8080/"
        },
        "id": "AEcYe0Mo3yuY",
        "outputId": "1895ee1d-556e-49f8-f1ab-2948e4325f45"
      },
      "outputs": [
        {
          "name": "stdout",
          "output_type": "stream",
          "text": [
            "(1, 2, 3, 4, 9, 0)\n"
          ]
        }
      ],
      "source": [
        "t1 = (1,2,3,4)\n",
        "t2 = (9,0)\n",
        "print (t1 + t2)"
      ]
    },
    {
      "cell_type": "code",
      "execution_count": null,
      "metadata": {
        "colab": {
          "base_uri": "https://localhost:8080/"
        },
        "id": "1c_lS2kt1v5b",
        "outputId": "bb9f8292-6195-4e98-819f-08a281dbf743"
      },
      "outputs": [
        {
          "name": "stdout",
          "output_type": "stream",
          "text": [
            "(9, 0, 9, 0, 9, 0, 9, 0, 9, 0, 9, 0, 9, 0, 9, 0, 9, 0, 9, 0)\n"
          ]
        }
      ],
      "source": [
        "print (t2 * 10)"
      ]
    },
    {
      "cell_type": "code",
      "execution_count": null,
      "metadata": {
        "colab": {
          "base_uri": "https://localhost:8080/"
        },
        "id": "B-opxzEA13xQ",
        "outputId": "a0abbd0b-06fc-4906-f80f-d349b0c97099"
      },
      "outputs": [
        {
          "data": {
            "text/plain": [
              "(2, 3)"
            ]
          },
          "execution_count": 5,
          "metadata": {},
          "output_type": "execute_result"
        }
      ],
      "source": [
        "t1 [1:3]"
      ]
    },
    {
      "cell_type": "markdown",
      "metadata": {
        "id": "WdMUpmib4FNZ"
      },
      "source": []
    },
    {
      "cell_type": "markdown",
      "metadata": {
        "id": "FUS2TnGv4GCF"
      },
      "source": [
        "# MEXENDO COM DICIONARIOS\n",
        "\n"
      ]
    },
    {
      "cell_type": "code",
      "execution_count": null,
      "metadata": {
        "id": "Kxvv96mj4Zc4"
      },
      "outputs": [],
      "source": [
        "dicionario_vazio = {}"
      ]
    },
    {
      "cell_type": "code",
      "execution_count": null,
      "metadata": {
        "colab": {
          "base_uri": "https://localhost:8080/"
        },
        "id": "rPKC2w-14i7A",
        "outputId": "61f4f431-fe4d-48c7-f481-1eff9287818e"
      },
      "outputs": [
        {
          "name": "stdout",
          "output_type": "stream",
          "text": [
            "{'nome': 'Bruno', 'idade': 30, 'cidade': 'São Paulo'}\n",
            "{'animal': 'Cachorro', 'nome': 'Bob', 'idade': 3}\n",
            "Bruno tem um Cachorro\n"
          ]
        }
      ],
      "source": [
        "dicionario_pessoas = {\n",
        "    'nome': 'Bruno',\n",
        "    'idade': 30,\n",
        "    'cidade': 'São Paulo'\n",
        "}\n",
        "dicionario_pet = {\n",
        "    'animal': 'Cachorro',\n",
        "    'nome': 'Bob',\n",
        "    'idade': 3\n",
        "}\n",
        "print(dicionario_pessoas)\n",
        "print(dicionario_pet)\n",
        "print(f\"{dicionario_pessoas['nome']} tem um {dicionario_pet['animal']}\")"
      ]
    },
    {
      "cell_type": "code",
      "execution_count": null,
      "metadata": {
        "colab": {
          "base_uri": "https://localhost:8080/"
        },
        "id": "C3AFJUP19oMT",
        "outputId": "4a76c760-b5da-43b3-94c1-de4878563d92"
      },
      "outputs": [
        {
          "name": "stdout",
          "output_type": "stream",
          "text": [
            "Cachorro\n",
            "5\n",
            "{'animal': 'Cachorro', 'idade': 5, 'sexo': 'macho'}\n",
            "{'animal': 'Cachorro', 'idade': 5, 'sexo': 'macho'}\n",
            "{'animal': 'Cachorro', 'idade': 5, 'sexo': 'macho'}\n",
            "False\n",
            "True\n"
          ]
        }
      ],
      "source": [
        "print(dicionario_pet['animal'])\n",
        "print(dicionario_pet['idade'])\n",
        "\n",
        "dicionario_pet['idade'] = 5\n",
        "\n",
        "print(dicionario_pet)\n",
        "\n",
        "dicionario_pet['sexo'] = \"macho\"\n",
        "print(dicionario_pet)\n",
        "\n",
        "#del dicionario_pet['nome']\n",
        "print(dicionario_pet)\n",
        "tem_chave_nome = 'nome' in dicionario_pet\n",
        "print(tem_chave_nome)\n",
        "tem_chave_sexo = 'sexo' in dicionario_pet\n",
        "print(tem_chave_sexo)\n"
      ]
    },
    {
      "cell_type": "code",
      "execution_count": null,
      "metadata": {
        "id": "6VmV8tG2_hm8"
      },
      "outputs": [],
      "source": [
        "if 'nome' in dicionario_pet:\n",
        "  print(dicionario_pet)"
      ]
    },
    {
      "cell_type": "markdown",
      "metadata": {
        "id": "Boft2NvGFirZ"
      },
      "source": [
        "# MEXENDO COM FUNÇÕES\n"
      ]
    },
    {
      "cell_type": "code",
      "execution_count": null,
      "metadata": {
        "colab": {
          "base_uri": "https://localhost:8080/"
        },
        "id": "kYj5MyyL9HHi",
        "outputId": "7cf2b316-5a52-47cc-cdee-48fb093b5dcb"
      },
      "outputs": [
        {
          "name": "stdout",
          "output_type": "stream",
          "text": [
            "1\n"
          ]
        }
      ],
      "source": [
        "def f(x):\n",
        "  print(x)\n",
        "\n",
        "f(1)\n"
      ]
    },
    {
      "cell_type": "code",
      "execution_count": null,
      "metadata": {
        "colab": {
          "base_uri": "https://localhost:8080/"
        },
        "id": "hKZZAAcs9ZTL",
        "outputId": "6baeced0-0a17-45b9-849c-36d7096e97db"
      },
      "outputs": [
        {
          "data": {
            "text/plain": [
              "4"
            ]
          },
          "execution_count": 3,
          "metadata": {},
          "output_type": "execute_result"
        }
      ],
      "source": [
        "def nome_funcao(argumento):\n",
        "  resultado = argumento * 2\n",
        "  return resultado\n",
        "\n",
        "nome_funcao(2)"
      ]
    },
    {
      "cell_type": "code",
      "execution_count": null,
      "metadata": {
        "colab": {
          "base_uri": "https://localhost:8080/"
        },
        "id": "FVkB5Jc79trt",
        "outputId": "eb6ea0d6-182e-4159-fb48-911c3813e3e7"
      },
      "outputs": [
        {
          "name": "stdout",
          "output_type": "stream",
          "text": [
            "Olá Thiago, seja bem-vindp!\n",
            "Olá Bruno, seja bem-vindp!\n",
            "Olá Flora, seja bem-vindp!\n"
          ]
        }
      ],
      "source": [
        "def saudar(nome):\n",
        "  print(f\"Olá {nome}, seja bem-vindo!\")\n",
        "\n",
        "saudar(\"Thiago\")\n",
        "saudar(\"Bruno\")\n",
        "saudar(\"Flora\")"
      ]
    },
    {
      "cell_type": "code",
      "execution_count": null,
      "metadata": {
        "colab": {
          "base_uri": "https://localhost:8080/"
        },
        "id": "FoCFiMTn-IF-",
        "outputId": "f407afe0-3848-4ebf-e6e6-0ea6a6edb254"
      },
      "outputs": [
        {
          "name": "stdout",
          "output_type": "stream",
          "text": [
            "Seja bem vindo Thiago de São Paulo\n"
          ]
        }
      ],
      "source": [
        "def boas_vindas(nome, cidade):\n",
        "  print(f\"Seja bem vindo {nome} de {cidade}\")\n",
        "\n",
        "boas_vindas(\"Thiago\", \"São Paulo\")"
      ]
    },
    {
      "cell_type": "code",
      "execution_count": null,
      "metadata": {
        "colab": {
          "base_uri": "https://localhost:8080/"
        },
        "id": "e0UBd2xG-jo8",
        "outputId": "e8ba4abc-fea7-4f57-c073-6979fee9f85b"
      },
      "outputs": [
        {
          "data": {
            "text/plain": [
              "95"
            ]
          },
          "execution_count": 17,
          "metadata": {},
          "output_type": "execute_result"
        }
      ],
      "source": [
        "def soma(a,b):\n",
        "  return a + b\n",
        "\n",
        "soma(93, 2)"
      ]
    },
    {
      "cell_type": "code",
      "execution_count": null,
      "metadata": {
        "colab": {
          "base_uri": "https://localhost:8080/"
        },
        "id": "CPEMqhPz-_OA",
        "outputId": "14f8dc9d-2f59-4334-80a5-4853877b685b"
      },
      "outputs": [
        {
          "data": {
            "text/plain": [
              "75.2"
            ]
          },
          "execution_count": 19,
          "metadata": {},
          "output_type": "execute_result"
        }
      ],
      "source": [
        "def celsius_para_fahrenheit(celsius):\n",
        "  fahrenheit = (celsius * 9/5) + 32\n",
        "  return fahrenheit\n",
        "\n",
        "celsius_para_fahrenheit(24)"
      ]
    },
    {
      "cell_type": "markdown",
      "metadata": {
        "id": "CCjwaM5g_-1C"
      },
      "source": [
        "Argumentos posicionais, não os arg que logicamente são selecionados por posições\n",
        "podemos usar argumentos nomeados, como por exemplo\n",
        "def boas_vindas(nome, cidade):\n",
        "  print(f\"Seja bem vindo {nome} de {cidade}\")\n",
        "\n",
        "boas_vindas(\"Lucélia\", \"Thiago\")\n",
        "\n",
        "na função acima estamos usando argumento posicionais,o retonro vai ser seja bem vindo lucélia de são paulo\n",
        "\n",
        "usando argumentos nomeados, a função ficaria\n",
        "\n",
        "def boas_vindas(nome, cidade):\n",
        "  print(f\"Seja bem vindo {nome} de {cidade}\")\n",
        "\n",
        "boas_vindas(cidade =\"Lucélia\", nome=\"Thiago\")\n",
        "\n",
        "assim o retorno se mantem correndo independente da ordem de declaração dos argumentos  "
      ]
    },
    {
      "cell_type": "code",
      "execution_count": null,
      "metadata": {
        "colab": {
          "base_uri": "https://localhost:8080/"
        },
        "id": "VnCY64RrAz_a",
        "outputId": "8e23d23b-b6b1-43d7-b0b8-895bd6e78b11"
      },
      "outputs": [
        {
          "data": {
            "text/plain": [
              "60"
            ]
          },
          "execution_count": 21,
          "metadata": {},
          "output_type": "execute_result"
        }
      ],
      "source": [
        "def area_retangulo(largura, altura):\n",
        "  area = largura * altura\n",
        "  return area\n",
        "\n",
        "l = 10\n",
        "a = 6\n",
        "area_retangulo(l,a)\n"
      ]
    },
    {
      "cell_type": "code",
      "execution_count": null,
      "metadata": {
        "colab": {
          "base_uri": "https://localhost:8080/"
        },
        "id": "rc7sYoWVBJnl",
        "outputId": "4c543e68-c30c-4a15-dde0-f279369831ea"
      },
      "outputs": [
        {
          "data": {
            "text/plain": [
              "60"
            ]
          },
          "execution_count": 22,
          "metadata": {},
          "output_type": "execute_result"
        }
      ],
      "source": [
        "#usando arg nomeados\n",
        "area_retangulo(altura = a, largura = l)"
      ]
    },
    {
      "cell_type": "code",
      "execution_count": null,
      "metadata": {
        "colab": {
          "base_uri": "https://localhost:8080/"
        },
        "id": "I7exSawvBZFj",
        "outputId": "a931eba4-a374-4264-f4fb-f9dc005bf0c7"
      },
      "outputs": [
        {
          "name": "stdout",
          "output_type": "stream",
          "text": [
            "645\n",
            "645\n"
          ]
        }
      ],
      "source": [
        "def volume_cubo(largura, altura, comprimento):\n",
        "  return largura*altura*comprimento\n",
        "#Posicional\n",
        "volume_pos = volume_cubo(43,3,5)\n",
        "\n",
        "#nomeada\n",
        "volume_nome = volume_cubo(comprimento = 5, altura = 3, largura = 43)\n",
        "\n",
        "print(volume_pos)\n",
        "print(volume_nome)"
      ]
    },
    {
      "cell_type": "code",
      "execution_count": null,
      "metadata": {
        "colab": {
          "base_uri": "https://localhost:8080/",
          "height": 36
        },
        "id": "z34CZCccBifM",
        "outputId": "e3ea34d8-8539-44d7-84c8-6ad4b0d0eebd"
      },
      "outputs": [
        {
          "data": {
            "application/vnd.google.colaboratory.intrinsic+json": {
              "type": "string"
            },
            "text/plain": [
              "'impar'"
            ]
          },
          "execution_count": 3,
          "metadata": {},
          "output_type": "execute_result"
        }
      ],
      "source": [
        "def par_impar(numero):\n",
        "  if numero % 2 == 0:\n",
        "    return 'par'\n",
        "  else:\n",
        "    return 'impar'\n",
        "\n",
        "par_impar(23)"
      ]
    },
    {
      "cell_type": "code",
      "execution_count": null,
      "metadata": {
        "colab": {
          "base_uri": "https://localhost:8080/",
          "height": 36
        },
        "id": "Uv-JeyLE9_pm",
        "outputId": "d049804a-987e-4329-8ef3-858557439a9f"
      },
      "outputs": [
        {
          "data": {
            "application/vnd.google.colaboratory.intrinsic+json": {
              "type": "string"
            },
            "text/plain": [
              "'Reprovado'"
            ]
          },
          "execution_count": 6,
          "metadata": {},
          "output_type": "execute_result"
        }
      ],
      "source": [
        "def classifica_aluno(nota):\n",
        "  if nota >= 7:\n",
        "    return \"Aprovado\"\n",
        "  elif nota < 7 and nota >= 5:\n",
        "    return \"Recuperação\"\n",
        "  else:\n",
        "    return \"Reprovado\"\n",
        "\n",
        "classifica_aluno(4)"
      ]
    },
    {
      "cell_type": "code",
      "execution_count": null,
      "metadata": {
        "colab": {
          "base_uri": "https://localhost:8080/",
          "height": 90
        },
        "id": "5nqH7TAWAiyJ",
        "outputId": "885ddb2c-f113-415e-a75a-ec04705325b3"
      },
      "outputs": [
        {
          "name": "stdout",
          "output_type": "stream",
          "text": [
            "Seja bem vindo Thiago de Lucélia\n"
          ]
        },
        {
          "data": {
            "application/vnd.google.colaboratory.intrinsic+json": {
              "type": "string"
            },
            "text/plain": [
              "'\\nEnvia uma mensagem de boas vindas  \\n\\n   Args: \\n        nome: Uma String\\n        Cidade: Uma String (opcional, valor padrão é Lucélia)\\n   Returns:\\n        Uma String com a mensagem de boas vindas\\n'"
            ]
          },
          "execution_count": 11,
          "metadata": {},
          "output_type": "execute_result"
        }
      ],
      "source": [
        "def boas_vindas(nome, cidade='Lucélia'):\n",
        "  print(f\"Seja bem vindo {nome} de {cidade}\")\n",
        "\n",
        "boas_vindas(\"Thiago\")\n",
        "#caso você passe o parametro cidade, ele não será salvo\n",
        "\n",
        "\"\"\"\n",
        "Envia uma mensagem de boas vindas\n",
        "\n",
        "   Args:\n",
        "        nome: Uma String\n",
        "        Cidade: Uma String (opcional, valor padrão é Lucélia)\n",
        "   Returns:\n",
        "        Uma String com a mensagem de boas vindas\n",
        "\"\"\""
      ]
    },
    {
      "cell_type": "markdown",
      "metadata": {
        "id": "oWGc9Vr6G-rQ"
      },
      "source": [
        "# TRATANDO ERROS\n",
        "\n"
      ]
    },
    {
      "cell_type": "code",
      "execution_count": null,
      "metadata": {
        "colab": {
          "base_uri": "https://localhost:8080/"
        },
        "id": "BYOX8VUvHERP",
        "outputId": "5c86e800-83a2-45e3-9b8e-d127ac2ec14c"
      },
      "outputs": [
        {
          "name": "stdout",
          "output_type": "stream",
          "text": [
            "x não tem valor definido\n"
          ]
        }
      ],
      "source": [
        "try:\n",
        "    print(x)\n",
        "except:\n",
        "    print(\"x não tem valor definido\")"
      ]
    },
    {
      "cell_type": "code",
      "execution_count": null,
      "metadata": {
        "colab": {
          "base_uri": "https://localhost:8080/"
        },
        "id": "3yuN0Y_MHcN_",
        "outputId": "ca9fe6c8-717f-4e50-9a45-c565309c4017"
      },
      "outputs": [
        {
          "name": "stdout",
          "output_type": "stream",
          "text": [
            "Erro de conversão, não é possível converter texto para inteiro\n"
          ]
        }
      ],
      "source": [
        "def convert_texto_numero(texto):\n",
        "    try:\n",
        "        return int(texto)\n",
        "    except:\n",
        "        print(\"Erro de conversão, não é possível converter texto para inteiro\")\n",
        "        return None\n",
        "\n",
        "convert_texto_numero(\"treze\")"
      ]
    },
    {
      "cell_type": "markdown",
      "metadata": {
        "id": "feQqUOIaP3hc"
      },
      "source": [
        "# TRABALHANDO COM ARQUVIVOS\n",
        "\n",
        "> Adicionar aspas\n",
        "\n",
        "\n"
      ]
    },
    {
      "cell_type": "code",
      "execution_count": null,
      "metadata": {
        "id": "67piDMp2P9p5"
      },
      "outputs": [],
      "source": [
        "#essa é a sintaxe para abertura de um aquivo\n",
        "# arquivo = open(nome_do_arquivo, modo_de_abertura)"
      ]
    },
    {
      "cell_type": "code",
      "execution_count": null,
      "metadata": {
        "colab": {
          "base_uri": "https://localhost:8080/"
        },
        "id": "cj8VQmxxQZ9P",
        "outputId": "beae2e01-6991-4bce-dbfa-acb21352eaab"
      },
      "outputs": [
        {
          "name": "stdout",
          "output_type": "stream",
          "text": [
            "teste de aula, conteúdo do arquivo vai ser um conglomerado de palavras para testar a leitura de arquivo no colab com python  \n",
            "\n",
            "1sda2 \n",
            "\n",
            "\"texto\" \n",
            "Nú    me    ro \n",
            "\n",
            "Thi\n",
            "a/\\go\n"
          ]
        }
      ],
      "source": [
        "#abertura do arquivo em modo de leitura\n",
        "arquivo = open('meu_arquivo.txt', 'r') #modo r de reading (leitura)\n",
        "# Lendo o conteudo do arquivo\n",
        "conteudo = arquivo.read()\n",
        "print(conteudo)\n",
        "\n",
        "#Fechamento do arquivo\n",
        "arquivo.close()"
      ]
    },
    {
      "cell_type": "code",
      "execution_count": null,
      "metadata": {
        "colab": {
          "base_uri": "https://localhost:8080/"
        },
        "id": "Cp_JhHKcSCb-",
        "outputId": "d246ec1f-01f1-4fc6-d9cc-af9635345f45"
      },
      "outputs": [
        {
          "name": "stdout",
          "output_type": "stream",
          "text": [
            "Linha 1: teste de aula, conteúdo do arquivo vai ser um conglomerado de palavras para testar a leitura de arquivo no colab com python\n",
            "Linha 2: \n",
            "Linha 3: 1sda2\n",
            "Linha 4: \n",
            "Linha 5: \"texto\"\n",
            "Linha 6: Nú    me    ro\n",
            "Linha 7: \n",
            "Linha 8: Thi\n",
            "Linha 9: a/\\go\n"
          ]
        }
      ],
      "source": [
        "#abertura do arquivo em modo de leitura\n",
        "arquivo = open('meu_arquivo.txt', 'r') #modo r de reading (leitura)\n",
        "n = 0\n",
        "# Lendo linha a linha do arquivo com for\n",
        "#incluindo o N e a incrementação dele, conseguimos contar e mostrar o n.º da linha\n",
        "#para o usuario\n",
        "for linha in arquivo:\n",
        "  n += 1\n",
        "  print(f\"Linha {n}: {linha.strip()}\")\n",
        "\n",
        "#Fechamento do arquivo\n",
        "arquivo.close()"
      ]
    },
    {
      "cell_type": "markdown",
      "metadata": {
        "id": "TQJVJLtdQkNv"
      },
      "source": []
    },
    {
      "cell_type": "code",
      "execution_count": null,
      "metadata": {
        "colab": {
          "base_uri": "https://localhost:8080/"
        },
        "id": "oOlqcLyqSmLl",
        "outputId": "9580f4f7-20ce-4af8-cf0c-2b6ef0daeaa9"
      },
      "outputs": [
        {
          "name": "stdout",
          "output_type": "stream",
          "text": [
            "Linha 1: teste de aula, conteúdo do arquivo vai ser um conglomerado de palavras para testar a leitura de arquivo no colab com python\n",
            "Linha 2: \n",
            "Linha 3: 1sda2\n",
            "Linha 4: \n",
            "Linha 5: \"texto\"\n",
            "Linha 6: Nú    me    ro\n",
            "Linha 7: \n",
            "Linha 8: Thi\n",
            "Linha 9: a/\\go\n"
          ]
        }
      ],
      "source": [
        "#abertura do arquivo em modo de leitura\n",
        "arquivo = open('meu_arquivo.txt', 'r') #modo r de reading (leitura)\n",
        "\n",
        "#lendo linha a linha do arquivo com while\n",
        "#incluindo o N e a incrementação dele, conseguimos contar e mostrar o n.º da linha\n",
        "#para o usuario\n",
        "n = 0\n",
        "linha = arquivo.readline()\n",
        "while linha:\n",
        "  n += 1\n",
        "  print(f\"Linha {n}: {linha.strip()}\")\n",
        "  linha = arquivo.readline()\n",
        "\n",
        "#Fechamento do arquivo\n",
        "arquivo.close()\n"
      ]
    },
    {
      "cell_type": "code",
      "execution_count": null,
      "metadata": {
        "colab": {
          "base_uri": "https://localhost:8080/"
        },
        "id": "fFO9sOQnTchJ",
        "outputId": "85dee42f-9896-4163-8b48-3b33cca6a34f"
      },
      "outputs": [
        {
          "name": "stdout",
          "output_type": "stream",
          "text": [
            "Linha 1: teste de aula, conteúdo do arquivo vai ser um conglomerado de palavras para testar a leitura de arquivo no colab com python\n",
            "Linha 2: \n",
            "Linha 3: 1sda2\n",
            "Linha 4: \n",
            "Linha 5: \"texto\"\n",
            "Linha 6: Nú    me    ro\n",
            "Linha 7: \n",
            "Linha 8: Thi\n",
            "Linha 9: a/\\go\n"
          ]
        }
      ],
      "source": [
        "#criando escopo para o arquvio\n",
        "\n",
        "with open('meu_arquivo.txt', 'r') as arquivo:\n",
        "  n = 0\n",
        "  linha = arquivo.readline()\n",
        "  while linha:\n",
        "    n += 1\n",
        "    print(f\"Linha {n}: {linha.strip()}\")\n",
        "    linha = arquivo.readline()\n",
        "\n",
        "#dessa maneira, o arquivo só fica aberto dentro do bloco with as, assim como\n",
        "#as variaveis globais"
      ]
    },
    {
      "cell_type": "code",
      "execution_count": null,
      "metadata": {
        "colab": {
          "base_uri": "https://localhost:8080/"
        },
        "id": "-_OPzxlVUMDn",
        "outputId": "44fe88ef-b1d0-4ae4-c959-ab0b6acc4255"
      },
      "outputs": [
        {
          "name": "stdout",
          "output_type": "stream",
          "text": [
            "Número de linhas:  9\n"
          ]
        }
      ],
      "source": [
        "with open ('meu_arquivo.txt', 'r') as arquivo:\n",
        "  linhas = arquivo.readlines()\n",
        "\n",
        "  print(\"Número de linhas: \", len(linhas))"
      ]
    },
    {
      "cell_type": "code",
      "execution_count": null,
      "metadata": {
        "id": "DpUXrf5zX_94"
      },
      "outputs": [],
      "source": [
        "with open('teste_escrita_w.txt', 'w') as arq_w:\n",
        "  arq_w.write(\"Este é um teste de escrita\\n\") #sempre na escrita usar o \\n para quebra de linha\n",
        "  arq_w.write(\"está linha é a segunda do meu arquivo - teste de sobreescrita\\n\")\n",
        "  arq_w.write(\"toda vez que eu rodar esse codigo meu arquivo vai ser sobrescrito\\n\")"
      ]
    },
    {
      "cell_type": "code",
      "execution_count": null,
      "metadata": {
        "id": "0-cShuLcYvjv"
      },
      "outputs": [],
      "source": [
        "with open('teste_escrita_a.txt', 'a') as arq_a:\n",
        "  arq_a.write(\"Essa é a primeira linha escrita com a\\n\")"
      ]
    },
    {
      "cell_type": "code",
      "execution_count": null,
      "metadata": {
        "id": "__TPYGJZY7P1"
      },
      "outputs": [],
      "source": [
        "with open('teste_escrita_a.txt', 'a') as arq_a:\n",
        "  arq_a.write(\"Essa é a segunda linha do arquivo\\n\")"
      ]
    },
    {
      "cell_type": "code",
      "execution_count": null,
      "metadata": {
        "colab": {
          "base_uri": "https://localhost:8080/"
        },
        "id": "Q0ePI2zqYfXm",
        "outputId": "a33d7172-6161-4871-9465-1b1919e3c6aa"
      },
      "outputs": [
        {
          "name": "stdout",
          "output_type": "stream",
          "text": [
            "Linha 1: Este é um teste de escrita\n",
            "Linha 2: está linha é a segunda do meu arquivo - teste de sobreescrita\n",
            "Linha 3: toda vez que eu rodar esse codigo meu arquivo vai ser sobrescrito\n"
          ]
        }
      ],
      "source": [
        "with open('teste_escrita_w.txt', 'r') as arquivo:\n",
        "  n = 0\n",
        "  linha = arquivo.readline()\n",
        "  while linha:\n",
        "    n += 1\n",
        "    print(f\"Linha {n}: {linha.strip()}\")\n",
        "    linha = arquivo.readline()\n"
      ]
    },
    {
      "cell_type": "code",
      "execution_count": null,
      "metadata": {
        "id": "ANmktLlrZZmb"
      },
      "outputs": [],
      "source": [
        "#o modo de abertura com W sobrescreve o que já temos escrito, já com a abertura com a\n",
        "#o arquivo \"aprende\" o que já temos escrito e adiciona ao final a nova escrita"
      ]
    },
    {
      "cell_type": "code",
      "execution_count": null,
      "metadata": {
        "colab": {
          "base_uri": "https://localhost:8080/"
        },
        "id": "Sq6tTYVbZF11",
        "outputId": "29aa7c94-07bd-4f98-b19b-d042be510a2a"
      },
      "outputs": [
        {
          "name": "stdout",
          "output_type": "stream",
          "text": [
            "Linha 1: Essa é a primeira linha escrita com a\n",
            "Linha 2: Essa é a segunda linha do arquivo\n"
          ]
        }
      ],
      "source": [
        "with open('teste_escrita_a.txt', 'r') as arquivo:\n",
        "  n = 0\n",
        "  linha = arquivo.readline()\n",
        "  while linha:\n",
        "    n += 1\n",
        "    print(f\"Linha {n}: {linha.strip()}\")\n",
        "    linha = arquivo.readline()"
      ]
    },
    {
      "cell_type": "code",
      "execution_count": null,
      "metadata": {
        "id": "0dz0iB4TZo2S"
      },
      "outputs": [],
      "source": [
        "lista_frutas = ['banana', 'ameixa', 'laranja', 'abacaxi']\n",
        "with open('frutas.txt', 'a') as arq:\n",
        "  for fruta in lista_frutas:\n",
        "    arq.write(fruta + \"\\n\")"
      ]
    },
    {
      "cell_type": "code",
      "execution_count": null,
      "metadata": {
        "colab": {
          "base_uri": "https://localhost:8080/"
        },
        "id": "2huXi5tJaEI3",
        "outputId": "dc544530-c801-47b5-82b8-96d92fe43003"
      },
      "outputs": [
        {
          "name": "stdout",
          "output_type": "stream",
          "text": [
            "Linha 1: banana\n",
            "Linha 2: ameixa\n",
            "Linha 3: laranja\n",
            "Linha 4: abacaxi\n",
            "Linha 5: banana\n",
            "Linha 6: ameixa\n",
            "Linha 7: laranja\n",
            "Linha 8: abacaxi\n"
          ]
        }
      ],
      "source": [
        "with open ('frutas.txt', 'r') as arq:\n",
        "  n = 0\n",
        "  linha = arq.readline()\n",
        "  while linha:\n",
        "    n += 1\n",
        "    print(f\"Linha {n}: {linha.strip()}\")\n",
        "    linha = arq.readline()"
      ]
    },
    {
      "cell_type": "markdown",
      "metadata": {
        "id": "mTK4Uk-AQv3i"
      },
      "source": [
        "# TRABALHANDO COM JSON"
      ]
    },
    {
      "cell_type": "code",
      "execution_count": null,
      "metadata": {
        "colab": {
          "base_uri": "https://localhost:8080/"
        },
        "id": "xYmMM8GHQyws",
        "outputId": "0c80ba10-f306-422f-abaa-b5c9d8d7cb06"
      },
      "outputs": [
        {
          "name": "stdout",
          "output_type": "stream",
          "text": [
            "{'titulo': 'Dom Casmurro', 'autor': 'Machado de Assis', 'ano': 1899}\n"
          ]
        }
      ],
      "source": [
        "#para importar os pacotes de json basta somente utilizar o codigo import json\n",
        "#sempre na primeira linha dos codigo\n",
        "\n",
        "import json\n",
        "\n",
        "#do mesmo jeito que liamos arquivos txt, vamos ler arquivos json\n",
        "\n",
        "with open ('livro.json', 'r') as arquivo:\n",
        "  livro = json.load(arquivo)\n",
        "print(livro)"
      ]
    },
    {
      "cell_type": "code",
      "execution_count": null,
      "metadata": {
        "colab": {
          "base_uri": "https://localhost:8080/",
          "height": 36
        },
        "id": "_JaZvoDFSLsQ",
        "outputId": "df4b8e34-1ded-487e-ea72-cd706d95ed18"
      },
      "outputs": [
        {
          "data": {
            "application/vnd.google.colaboratory.intrinsic+json": {
              "type": "string"
            },
            "text/plain": [
              "'Dom Casmurro'"
            ]
          },
          "execution_count": 9,
          "metadata": {},
          "output_type": "execute_result"
        }
      ],
      "source": [
        "livro['titulo']"
      ]
    },
    {
      "cell_type": "code",
      "execution_count": null,
      "metadata": {
        "colab": {
          "base_uri": "https://localhost:8080/"
        },
        "id": "VAanZLcMSVph",
        "outputId": "d35f452e-7e8e-4728-e88a-598e5d0016f0"
      },
      "outputs": [
        {
          "name": "stdout",
          "output_type": "stream",
          "text": [
            "[{'nome': 'cadeira', 'preco': '200'}, {'nome': 'mesa', 'preco': '300'}, {'nome': 'relogio', 'preco': '40'}]\n"
          ]
        }
      ],
      "source": [
        "#lendo o arquivo produtos.json\n",
        "with open ('produtos.json', 'r') as arquivo:\n",
        "  produtos = json.load(arquivo)\n",
        "print(produtos)\n"
      ]
    },
    {
      "cell_type": "code",
      "execution_count": null,
      "metadata": {
        "colab": {
          "base_uri": "https://localhost:8080/"
        },
        "id": "O1laAYuZTH2n",
        "outputId": "1e37daa6-8be9-463c-8478-10ee10f41d10"
      },
      "outputs": [
        {
          "data": {
            "text/plain": [
              "3"
            ]
          },
          "execution_count": 23,
          "metadata": {},
          "output_type": "execute_result"
        }
      ],
      "source": [
        "#contando quantos protudos existem no arquivo\n",
        "len(produtos)\n"
      ]
    },
    {
      "cell_type": "code",
      "execution_count": null,
      "metadata": {
        "colab": {
          "base_uri": "https://localhost:8080/",
          "height": 36
        },
        "id": "0wTCXh9RTJfT",
        "outputId": "e9ea1886-496e-4a46-ae29-bfaed53a9cdd"
      },
      "outputs": [
        {
          "data": {
            "application/vnd.google.colaboratory.intrinsic+json": {
              "type": "string"
            },
            "text/plain": [
              "'cadeira'"
            ]
          },
          "execution_count": 22,
          "metadata": {},
          "output_type": "execute_result"
        }
      ],
      "source": [
        "#acessando a informação nome do primeiro produto do arquivo json\n",
        "produtos [0]['nome']"
      ]
    },
    {
      "cell_type": "code",
      "execution_count": null,
      "metadata": {
        "colab": {
          "base_uri": "https://localhost:8080/"
        },
        "id": "wFPyIRomTMnS",
        "outputId": "d23ca718-426e-4d6a-d142-8b1ec409b349"
      },
      "outputs": [
        {
          "name": "stdout",
          "output_type": "stream",
          "text": [
            "o produto cadeira custa 200\n",
            "o produto mesa custa 300\n",
            "o produto relogio custa 40\n"
          ]
        }
      ],
      "source": [
        "#percorrendo todos os produtos e formatando com fstring\n",
        "for produto in produtos:\n",
        "  print(f\"o produto {produto['nome']} custa {produto['preco']}\")\n"
      ]
    },
    {
      "cell_type": "code",
      "execution_count": null,
      "metadata": {
        "id": "nzeyNa7xU5N-"
      },
      "outputs": [],
      "source": [
        "#criando dicionario\n",
        "dados = {\n",
        "    'nome': 'Carlos',\n",
        "    'idade': 28,\n",
        "    'cidade': 'São Paulo'\n",
        "}"
      ]
    },
    {
      "cell_type": "code",
      "execution_count": null,
      "metadata": {
        "id": "5iYP_O-AVCZz"
      },
      "outputs": [],
      "source": [
        "#adicionado informações do dicionario para um arquivo json\n",
        "with open(\"dados.json\", 'w') as arquivo:\n",
        "  json.dump(dados, arquivo)"
      ]
    },
    {
      "cell_type": "code",
      "execution_count": null,
      "metadata": {
        "id": "lZ5CYy3tVivs"
      },
      "outputs": [],
      "source": [
        "#criando outro dicionario\n",
        "dados2 = {\n",
        "    'nome': 'Bruno',\n",
        "    'idade': 30,\n",
        "    'cidade': 'São Paulo'\n",
        "}"
      ]
    },
    {
      "cell_type": "code",
      "execution_count": null,
      "metadata": {
        "id": "idXwEoebVmUF"
      },
      "outputs": [],
      "source": [
        "#criando lista para conter todos os dicionarios\n",
        "lista_dados = [dados, dados2]"
      ]
    },
    {
      "cell_type": "code",
      "execution_count": null,
      "metadata": {
        "colab": {
          "base_uri": "https://localhost:8080/"
        },
        "id": "Qevc9z06VqUr",
        "outputId": "6c15f147-1995-4025-929d-43e58db9cd0e"
      },
      "outputs": [
        {
          "data": {
            "text/plain": [
              "[{'nome': 'Carlos', 'idade': 28, 'cidade': 'São Paulo'},\n",
              " {'nome': 'Bruno', 'idade': 30, 'cidade': 'São Paulo'}]"
            ]
          },
          "execution_count": 42,
          "metadata": {},
          "output_type": "execute_result"
        }
      ],
      "source": [
        "#visualizando dados da lista\n",
        "lista_dados"
      ]
    },
    {
      "cell_type": "code",
      "execution_count": null,
      "metadata": {
        "id": "ywlanrcMVt7j"
      },
      "outputs": [],
      "source": [
        "#escrevendo os dados da lista em um json\n",
        "with open(\"dados.json\", 'w') as arquivo:\n",
        "  json.dump(lista_dados, arquivo)"
      ]
    },
    {
      "cell_type": "code",
      "execution_count": null,
      "metadata": {
        "colab": {
          "base_uri": "https://localhost:8080/"
        },
        "id": "ULdNeDU9V7y9",
        "outputId": "7d248fbe-cf43-4aad-d4cc-b881eaf1e5cc"
      },
      "outputs": [
        {
          "name": "stdout",
          "output_type": "stream",
          "text": [
            "{'nome': 'Carlos', 'idade': 28, 'cidade': 'São Paulo'}\n",
            "{'nome': 'Bruno', 'idade': 30, 'cidade': 'São Paulo'}\n"
          ]
        }
      ],
      "source": [
        "#abrindo arquivo para a lentura\n",
        "with open('dados.json', 'r') as arquivo:\n",
        "  dados_json = json.load(arquivo)\n",
        "\n",
        "for dados in dados_json:\n",
        "  print(dados)"
      ]
    }
  ],
  "metadata": {
    "colab": {
      "collapsed_sections": [
        "sp2qiDlD-t_Q",
        "God8pw3r-xrv",
        "KzaFTie_fZT6",
        "Ehsa0VvuFSYX",
        "nT4hU2HIzeRF",
        "JcLGwxEcbg3b",
        "W_f7nMmz23aL",
        "FUS2TnGv4GCF",
        "Boft2NvGFirZ",
        "oWGc9Vr6G-rQ",
        "feQqUOIaP3hc",
        "mTK4Uk-AQv3i"
      ],
      "provenance": [],
      "toc_visible": true,
      "include_colab_link": true
    },
    "kernelspec": {
      "display_name": "Python 3",
      "name": "python3"
    }
  },
  "nbformat": 4,
  "nbformat_minor": 0
}