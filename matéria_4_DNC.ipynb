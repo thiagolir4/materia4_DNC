{
  "cells": [
    {
      "cell_type": "markdown",
      "metadata": {
        "id": "view-in-github",
        "colab_type": "text"
      },
      "source": [
        "<a href=\"https://colab.research.google.com/github/thiagolir4/materia4_DNC/blob/main/mat%C3%A9ria_4_DNC.ipynb\" target=\"_parent\"><img src=\"https://colab.research.google.com/assets/colab-badge.svg\" alt=\"Open In Colab\"/></a>"
      ]
    },
    {
      "cell_type": "markdown",
      "source": [
        "# **PRIMEIRA MATEIRA**\n"
      ],
      "metadata": {
        "id": "sp2qiDlD-t_Q"
      }
    },
    {
      "cell_type": "code",
      "source": [
        "print (\"Isso é um teste \")"
      ],
      "metadata": {
        "id": "V81aagmZsUqr",
        "outputId": "780ef373-e8e8-4dd0-c343-303ab158bb39",
        "colab": {
          "base_uri": "https://localhost:8080/"
        }
      },
      "execution_count": null,
      "outputs": [
        {
          "output_type": "stream",
          "name": "stdout",
          "text": [
            "Isso é um teste \n"
          ]
        }
      ]
    },
    {
      "cell_type": "code",
      "source": [
        "largura = float(input(\"Digite a largura do retângulo: \"))\n",
        "altura = float(input(\"Digite a altura do retângulo: \"))\n",
        "area = largura * altura\n",
        "metrica = \"Area: \"\n",
        "#print(\"A área do retângulo é:\", area, sep=';')\n",
        "#usando fstring com python\n",
        "print (f\"{metrica} {area:.2f}\")"
      ],
      "metadata": {
        "id": "9TnXxWE7trqr",
        "outputId": "38b1395a-03ac-4c52-fc7b-48edd55cb85e",
        "colab": {
          "base_uri": "https://localhost:8080/"
        }
      },
      "execution_count": null,
      "outputs": [
        {
          "output_type": "stream",
          "name": "stdout",
          "text": [
            "Digite a largura do retângulo: 5.5\n",
            "Digite a altura do retângulo: 2.7\n",
            "Area:  14.85\n"
          ]
        }
      ]
    },
    {
      "cell_type": "code",
      "source": [
        "nota1 = float(input(\"Digite a nota da p1: \"))\n",
        "nota2 = float(input(\"Digite a nota da p2: \"))\n",
        "media = (nota1 + nota2) / 2\n",
        "print(\"A média é:\", media)"
      ],
      "metadata": {
        "id": "ewNPQ3gjtq-V",
        "outputId": "4cd42f52-2a2b-4cbf-b4c8-b7dfa5d04423",
        "colab": {
          "base_uri": "https://localhost:8080/"
        }
      },
      "execution_count": null,
      "outputs": [
        {
          "output_type": "stream",
          "name": "stdout",
          "text": [
            "Digite a nota da p1: 5\n",
            "Digite a nota da p2: 10\n",
            "A média é: 7.5\n"
          ]
        }
      ]
    },
    {
      "cell_type": "code",
      "source": [
        "valor_monetario = 1457.87456\n",
        "print (f\"Valor em reais  R${valor_monetario:,.2f}\")"
      ],
      "metadata": {
        "id": "tp2Aghy36cvs",
        "outputId": "5e9d9389-303d-4099-f5ff-54791a1f6f7d",
        "colab": {
          "base_uri": "https://localhost:8080/"
        }
      },
      "execution_count": null,
      "outputs": [
        {
          "output_type": "stream",
          "name": "stdout",
          "text": [
            "Valor em reais  R$1,457.87\n"
          ]
        }
      ]
    },
    {
      "cell_type": "markdown",
      "source": [
        "TESTE PARA VER SE ESTAVA SALVANDO\n"
      ],
      "metadata": {
        "id": "Jxb9qosn-G6M"
      }
    },
    {
      "cell_type": "markdown",
      "source": [
        "# case_tarefas.ipynb"
      ],
      "metadata": {
        "id": "God8pw3r-xrv"
      }
    },
    {
      "cell_type": "code",
      "source": [
        "tarefa = input(\"Digite uma tarefa: \")\n",
        "print(\"A tarefa foi adicionada!\")\n",
        "print (f\"A tarefa adicionada foi: {tarefa} \")"
      ],
      "metadata": {
        "id": "LzFFNdvA--2J",
        "colab": {
          "base_uri": "https://localhost:8080/"
        },
        "outputId": "16bbe476-8d69-4600-d5fe-508c4a40a11d"
      },
      "execution_count": null,
      "outputs": [
        {
          "output_type": "stream",
          "name": "stdout",
          "text": [
            "Digite uma tarefa: estudar python\n",
            "A tarefa foi adicionada!\n",
            "A tarefa adicionada foi: estudar python \n"
          ]
        }
      ]
    },
    {
      "cell_type": "code",
      "source": [
        "while True:\n",
        "  opcao = input(\"Digite uma tarefa ou sair para finalizar o progarama: \")\n",
        "  if opcao.lower() == \"sair\":\n",
        "    break\n",
        "  tarefa = opcao\n",
        "  print(f\"A tarefa adicionada foi: {tarefa} \")\n",
        "print(f\"A ultima tarefa odicionada antes do programa finalizar foi {tarefa}\")\n",
        "print(\"Programa finalizado!\")"
      ],
      "metadata": {
        "colab": {
          "base_uri": "https://localhost:8080/"
        },
        "id": "11kvcRq2Sk7n",
        "outputId": "bb1679dd-aa0f-4dcd-d1d0-6f3793f51104"
      },
      "execution_count": null,
      "outputs": [
        {
          "output_type": "stream",
          "name": "stdout",
          "text": [
            "Digite uma tarefa ou sair para finalizar o progarama: teste\n",
            "A tarefa adicionada foi: teste \n",
            "Digite uma tarefa ou sair para finalizar o progarama: trabalhat\n",
            "A tarefa adicionada foi: trabalhat \n",
            "Digite uma tarefa ou sair para finalizar o progarama: estudar\n",
            "A tarefa adicionada foi: estudar \n",
            "Digite uma tarefa ou sair para finalizar o progarama: sair\n",
            "A ultima tarefa odicionada antes do programa finalizar foi estudar\n",
            "Programa finalizado!\n"
          ]
        }
      ]
    },
    {
      "cell_type": "code",
      "source": [
        "#ADICIONANDO FUNÇÕES PARA O PROGRAMA\n",
        "tarefas = []\n",
        "\n",
        "def adicionar_tarefa(nome, prioridade):\n",
        "  tarefa = {\n",
        "      \"nome\": nome,\n",
        "      \"prioridade\": prioridade\n",
        "  }\n",
        "  tarefas.append(tarefa)\n",
        "  print(\"Tarefa adicionada:\", tarefa)\n",
        "\n",
        "def listar_tarefas():\n",
        "  print(\"Lista de tarefas:\")\n",
        "  for tarefa in tarefas:\n",
        "    print(f\"- {tarefa['nome']} (Prioridade: {tarefa['prioridade']})\")\n",
        "\n",
        "def remover_tarefa(nome):\n",
        "  for tarefa in tarefas:\n",
        "    if tarefa['nome'] == nome:\n",
        "      tarefas.remove(tarefa)\n",
        "      print(\"Tarefa removida:\", tarefa)\n",
        "    else:\n",
        "      print(\"Tarefa não encontrada.\")\n",
        "while True:\n",
        "  print(\" \")\n",
        "  print(\"**Menu de Opções**\")\n",
        "  print(\"1. Adicionar tarefa\")\n",
        "  print(\"2. Listar tarefas\")\n",
        "  print(\"3. Remover tarefas\")\n",
        "  print(\"4. Sair\")\n",
        "  opcao = input(\"Escolha uma opção: \")\n",
        "  if opcao == \"1\":\n",
        "    nome = input(\"Digite o nome da tarefa: \").upper()\n",
        "    prioridade = input(\"Digite a prioridade da tarefa: \").upper()\n",
        "    adicionar_tarefa(nome, prioridade)\n",
        "  elif opcao == \"2\":\n",
        "    print(\" \")\n",
        "    listar_tarefas()\n",
        "  elif opcao == \"3\":\n",
        "    nome = input(\"Digite o nome da tarefa que deseja remover: \").upper()\n",
        "    remover_tarefa(nome)\n",
        "  elif opcao ==\"4\":\n",
        "    print(\"Programa finalizado!\")\n",
        "    break\n",
        "  else:\n",
        "    print(\"Opção inválida. Tente novamente.\")\n",
        "\n",
        "\n"
      ],
      "metadata": {
        "colab": {
          "base_uri": "https://localhost:8080/"
        },
        "id": "oC-f9TQprjzJ",
        "outputId": "4ab8a577-d5b0-4f72-9195-f1aa440f40bf"
      },
      "execution_count": 14,
      "outputs": [
        {
          "output_type": "stream",
          "name": "stdout",
          "text": [
            " \n",
            "**Menu de Opções**\n",
            "1. Adicionar tarefa\n",
            "2. Listar tarefas\n",
            "3. Remover tarefas\n",
            "4. Sair\n",
            "Escolha uma opção: 1\n",
            "Digite o nome da tarefa: estudar python\n",
            "Digite a prioridade da tarefa: alta\n",
            "Tarefa adicionada: {'nome': 'ESTUDAR PYTHON', 'prioridade': 'ALTA'}\n",
            " \n",
            "**Menu de Opções**\n",
            "1. Adicionar tarefa\n",
            "2. Listar tarefas\n",
            "3. Remover tarefas\n",
            "4. Sair\n",
            "Escolha uma opção: 2\n",
            " \n",
            "Lista de tarefas:\n",
            "- ESTUDAR PYTHON (Prioridade: ALTA)\n",
            " \n",
            "**Menu de Opções**\n",
            "1. Adicionar tarefa\n",
            "2. Listar tarefas\n",
            "3. Remover tarefas\n",
            "4. Sair\n",
            "Escolha uma opção: 3\n",
            "Digite o nome da tarefa que deseja remover: estudar python\n",
            "Tarefa removida: {'nome': 'ESTUDAR PYTHON', 'prioridade': 'ALTA'}\n",
            " \n",
            "**Menu de Opções**\n",
            "1. Adicionar tarefa\n",
            "2. Listar tarefas\n",
            "3. Remover tarefas\n",
            "4. Sair\n",
            "Escolha uma opção: 4\n",
            "Programa finalizado!\n"
          ]
        }
      ]
    },
    {
      "cell_type": "code",
      "source": [
        "tarefas = []\n",
        "\n",
        "while True:\n",
        "  print(\" \")\n",
        "  print(\"**Menu de Opções**\")\n",
        "  print(\"1. Adicionar tarefa\")\n",
        "  print(\"2. Listar tarefas\")\n",
        "  print(\"3. Remover tarefas\")\n",
        "  print(\"4. Sair\")\n",
        "  opcao = input(\"Escolha uma opção: \")\n",
        "  if opcao == \"1\":\n",
        "    nome = input(\"Digite o nome da tarefa: \").upper()\n",
        "    prioridade = input(\"Digite a prioridade da tarefa: \").upper()\n",
        "    tarefa = {\n",
        "        \"nome\": nome,\n",
        "        \"prioridade\": prioridade\n",
        "    }\n",
        "    tarefas.append(tarefa)\n",
        "    print(\" \")\n",
        "    print(\"A tarefa foi adicionada!\")\n",
        "    print(f\"A tarefa adicionada foi: {tarefa}\")\n",
        "  elif opcao == \"2\":\n",
        "    print(\" \")\n",
        "    print(\"--Lista de tarefas: \")\n",
        "    for tarefa in tarefas:\n",
        "      print(f\"- Tarefa: {tarefa['nome']} - (Prioridade){tarefa['prioridade']}\")\n",
        "  elif opcao == \"3\":\n",
        "    nome = input(\"Digite o nome da tarefa que deseja remover: \").upper()\n",
        "    for tarefa in tarefas:\n",
        "      if tarefa['nome'] == nome:\n",
        "        tarefas.remove(tarefa)\n",
        "        print(\" \")\n",
        "        print(f\"A tarefa {nome} foi removida!\")\n",
        "        break\n",
        "    else:\n",
        "      print(\" \")\n",
        "      print(\"Tarefa não encontrada\")\n",
        "  elif opcao ==\"4\":\n",
        "    print(\"Programa finalizado!\")\n",
        "    break\n",
        "  else:\n",
        "    print(\"Opção inválida. Tente novamente.\")\n",
        "\n",
        "\n"
      ],
      "metadata": {
        "id": "3zpG8oBPLRrw"
      },
      "execution_count": null,
      "outputs": []
    },
    {
      "cell_type": "markdown",
      "source": [
        "# ***Lista de EXERCICIOS***"
      ],
      "metadata": {
        "id": "Ehsa0VvuFSYX"
      }
    },
    {
      "cell_type": "markdown",
      "source": [
        "***Primeio ex: Operações Basicas***"
      ],
      "metadata": {
        "id": "CUUO4AsWFbpa"
      }
    },
    {
      "cell_type": "code",
      "source": [
        "primeiro_numero = int(input(\"Digite o primeiro número: \"))\n",
        "segundo_numero = int(input(\"Digite o segundo número: \"))\n",
        "soma = primeiro_numero + segundo_numero\n",
        "subtracao = primeiro_numero - segundo_numero\n",
        "multiplicacao = primeiro_numero * segundo_numero\n",
        "divisão = primeiro_numero / segundo_numero\n",
        "divisao_inteira = primeiro_numero // segundo_numero\n",
        "resto_divisao = primeiro_numero % segundo_numero\n",
        "exponenciacao = primeiro_numero ** segundo_numero\n",
        "print(\"A soma é:\", soma)\n",
        "print(\"A subtração é:\", subtracao)\n",
        "print(\"A multiplicação é:\", multiplicacao)\n",
        "print(\"A divisão é:\", divisão)\n",
        "print(\"A divisão inteira é:\", divisao_inteira)\n",
        "print(\"O resto da divisão é:\", resto_divisao)\n",
        "print(\"A exponenciação é:\", exponenciacao)"
      ],
      "metadata": {
        "colab": {
          "base_uri": "https://localhost:8080/"
        },
        "id": "GCoiFNp4F59l",
        "outputId": "2b78d64a-4af6-46b7-a5a2-f2e960baa0ef"
      },
      "execution_count": null,
      "outputs": [
        {
          "output_type": "stream",
          "name": "stdout",
          "text": [
            "Digite o primeiro número: 8\n",
            "Digite o segundo número: 3\n",
            "A soma é: 11\n",
            "A subtração é: 5\n",
            "A multiplicação é: 24\n",
            "A divisão é: 2.6666666666666665\n",
            "A divisão inteira é: 2\n",
            "O resto da divisão é: 2\n",
            "A exponenciação é: 512\n"
          ]
        }
      ]
    },
    {
      "cell_type": "markdown",
      "source": [
        "***Segundo ex: Media de Notas***"
      ],
      "metadata": {
        "id": "0sm8pGR_GrrY"
      }
    },
    {
      "cell_type": "code",
      "source": [
        "nota1 = float(input(\"Digite a nota da p1: \"))\n",
        "nota2 = float(input(\"Digite a nota da p2: \"))\n",
        "nota3 = float(input(\"Digite a nota da p3: \"))\n",
        "media = (nota1 + nota2 + nota3) / 3\n",
        "print(\"A média é:\", media)"
      ],
      "metadata": {
        "colab": {
          "base_uri": "https://localhost:8080/"
        },
        "id": "xKa8XOjaGvvm",
        "outputId": "beeea047-3a4c-4606-cfbb-3dd3856fed7e"
      },
      "execution_count": null,
      "outputs": [
        {
          "output_type": "stream",
          "name": "stdout",
          "text": [
            "Digite a nota da p1: 7\n",
            "Digite a nota da p2: 8\n",
            "Digite a nota da p3: 6\n",
            "A média é: 7.0\n"
          ]
        }
      ]
    },
    {
      "cell_type": "markdown",
      "source": [
        "***Terceiro ex: Area de um circulo***"
      ],
      "metadata": {
        "id": "M2mUWcZVHAUN"
      }
    },
    {
      "cell_type": "code",
      "source": [
        "import math\n",
        "raio = float(input(\"Digite o raio de um circulo: \"))\n",
        "area = math.pi * raio **2\n",
        "print(f\"A área do circulo é {area:.2f}\")\n"
      ],
      "metadata": {
        "colab": {
          "base_uri": "https://localhost:8080/"
        },
        "id": "7vd9KZihHQ8c",
        "outputId": "616dcc80-b99d-4b8c-a496-5a913fdc50bf"
      },
      "execution_count": null,
      "outputs": [
        {
          "output_type": "stream",
          "name": "stdout",
          "text": [
            "Digite o raio de um circulo: 5\n",
            "A área do circulo é 78.54\n"
          ]
        }
      ]
    },
    {
      "cell_type": "markdown",
      "source": [
        "# ***Lista de EXERCICIOS LISTAS E FUNÇÕES***\n"
      ],
      "metadata": {
        "id": "nT4hU2HIzeRF"
      }
    },
    {
      "cell_type": "code",
      "source": [
        "nome = input(\"Digite seu nome: \")\n",
        "def saudacao(saudacao):\n",
        "  return (f\"olá {nome}, seja bem vindp!\")\n",
        "saudacao(nome)\n"
      ],
      "metadata": {
        "colab": {
          "base_uri": "https://localhost:8080/",
          "height": 53
        },
        "id": "0bcHNJsUziMU",
        "outputId": "3c67a8b8-728a-4655-c798-77dbf9eaea5c"
      },
      "execution_count": null,
      "outputs": [
        {
          "name": "stdout",
          "output_type": "stream",
          "text": [
            "Digite seu nome: thiago\n"
          ]
        },
        {
          "output_type": "execute_result",
          "data": {
            "text/plain": [
              "'olá thiago, seja bem vindp!'"
            ],
            "application/vnd.google.colaboratory.intrinsic+json": {
              "type": "string"
            }
          },
          "metadata": {},
          "execution_count": 21
        }
      ]
    },
    {
      "cell_type": "code",
      "source": [
        "numero1 = int(input(\"Digite um numero: \"))\n",
        "numero2 = int(input(\"Digite outro numero: \"))\n",
        "def soma(numero1, numero2):\n",
        "  return numero1 + numero2\n",
        "soma(numero1, numero2)"
      ],
      "metadata": {
        "colab": {
          "base_uri": "https://localhost:8080/"
        },
        "id": "9UWKKQC90XRL",
        "outputId": "85e10e75-f87c-4e01-9018-be35a894042e"
      },
      "execution_count": null,
      "outputs": [
        {
          "name": "stdout",
          "output_type": "stream",
          "text": [
            "Digite um numero: 10\n",
            "Digite outro numero: 5\n"
          ]
        },
        {
          "output_type": "execute_result",
          "data": {
            "text/plain": [
              "15"
            ]
          },
          "metadata": {},
          "execution_count": 22
        }
      ]
    },
    {
      "cell_type": "code",
      "source": [
        "numero = int(input(\"Digite um numero para sabaer se é par ou impar: \"))\n",
        "def eh_par(numero):\n",
        "    return numero % 2 == 0\n",
        "print(eh_par(numero))"
      ],
      "metadata": {
        "colab": {
          "base_uri": "https://localhost:8080/"
        },
        "id": "KIVjR1qI0z_q",
        "outputId": "0226f7b7-fe47-4d55-93e1-e63376cf7886"
      },
      "execution_count": null,
      "outputs": [
        {
          "output_type": "stream",
          "name": "stdout",
          "text": [
            "Digite um numero para sabaer se é par ou impar: 12341235\n",
            "False\n"
          ]
        }
      ]
    },
    {
      "cell_type": "code",
      "source": [
        "def tabuada(n):\n",
        "  for i in range(1, 11):\n",
        "    print(f\"{n} x {i} = {n * i}\")\n",
        "numero = int(input(\"Digite um numero para saber sua tabuada: \"))\n",
        "tabuada(numero)"
      ],
      "metadata": {
        "colab": {
          "base_uri": "https://localhost:8080/"
        },
        "id": "JxS-1eX91J4S",
        "outputId": "9800c3bf-78f5-472c-ed05-727e6bb875a6"
      },
      "execution_count": null,
      "outputs": [
        {
          "output_type": "stream",
          "name": "stdout",
          "text": [
            "Digite um numero para saber sua tabuada: 10\n",
            "10 x 1 = 10\n",
            "10 x 2 = 20\n",
            "10 x 3 = 30\n",
            "10 x 4 = 40\n",
            "10 x 5 = 50\n",
            "10 x 6 = 60\n",
            "10 x 7 = 70\n",
            "10 x 8 = 80\n",
            "10 x 9 = 90\n",
            "10 x 10 = 100\n"
          ]
        }
      ]
    },
    {
      "cell_type": "code",
      "source": [
        "def maior_numero(lista):\n",
        "    return max(lista)\n",
        "\n",
        "lista = [1,2,3,4,5,6,7,8,9,50]\n",
        "maior_numero(lista)"
      ],
      "metadata": {
        "colab": {
          "base_uri": "https://localhost:8080/"
        },
        "id": "c0SHgcU51hNi",
        "outputId": "0e2b15fd-bd4b-4aaa-8aa4-e265c201306b"
      },
      "execution_count": null,
      "outputs": [
        {
          "output_type": "execute_result",
          "data": {
            "text/plain": [
              "50"
            ]
          },
          "metadata": {},
          "execution_count": 33
        }
      ]
    },
    {
      "cell_type": "code",
      "source": [
        "def media_lista(lista):\n",
        "    return sum(lista) / len(lista)\n",
        "\n",
        "lista = [7,8,9,10]\n",
        "media_lista(lista)"
      ],
      "metadata": {
        "colab": {
          "base_uri": "https://localhost:8080/"
        },
        "id": "7Enw9fMY17uq",
        "outputId": "4fb0394a-cdf4-4bd9-8a46-0f390e19100d"
      },
      "execution_count": null,
      "outputs": [
        {
          "output_type": "execute_result",
          "data": {
            "text/plain": [
              "8.5"
            ]
          },
          "metadata": {},
          "execution_count": 34
        }
      ]
    },
    {
      "cell_type": "code",
      "source": [
        "def contar_pares(lista):\n",
        "    return len([num for num in lista if num % 2 == 0])\n",
        "\n",
        "lista = [1,2,3,4,5,6,7]\n",
        "contar_pares(lista)\n"
      ],
      "metadata": {
        "colab": {
          "base_uri": "https://localhost:8080/"
        },
        "id": "ZRMNkr4z2MF9",
        "outputId": "fb4fffb1-dd62-4185-a870-c706df45b4f7"
      },
      "execution_count": null,
      "outputs": [
        {
          "output_type": "execute_result",
          "data": {
            "text/plain": [
              "4"
            ]
          },
          "metadata": {},
          "execution_count": 45
        }
      ]
    },
    {
      "cell_type": "code",
      "source": [
        "def inverte_lista(lista):\n",
        "    return lista[::-1]\n",
        "\n",
        "lista = [1,2,3,4,5]\n",
        "inverte_lista(lista)"
      ],
      "metadata": {
        "colab": {
          "base_uri": "https://localhost:8080/"
        },
        "id": "LLwbHLpq2Utv",
        "outputId": "4e26402d-7469-4b5e-ad0f-3e5cc52aba7a"
      },
      "execution_count": null,
      "outputs": [
        {
          "output_type": "execute_result",
          "data": {
            "text/plain": [
              "[5, 4, 3, 2, 1]"
            ]
          },
          "metadata": {},
          "execution_count": 37
        }
      ]
    },
    {
      "cell_type": "code",
      "source": [
        "def remover_duplicatas(lista):\n",
        "    return list(set(lista))\n",
        "\n",
        "lista = [1,2,2,3,4,4,5]\n",
        "remover_duplicatas(lista)"
      ],
      "metadata": {
        "colab": {
          "base_uri": "https://localhost:8080/"
        },
        "id": "1TU-Qr8c2aDp",
        "outputId": "e3d5cf23-3cf0-489e-9690-765d6a4390c6"
      },
      "execution_count": null,
      "outputs": [
        {
          "output_type": "execute_result",
          "data": {
            "text/plain": [
              "[1, 2, 3, 4, 5]"
            ]
          },
          "metadata": {},
          "execution_count": 39
        }
      ]
    },
    {
      "cell_type": "markdown",
      "source": [
        "# MEXENDO COM LISTAS\n"
      ],
      "metadata": {
        "id": "JcLGwxEcbg3b"
      }
    },
    {
      "cell_type": "code",
      "source": [
        "lista_nuns = [1,2,3,4,5,6,7]\n",
        "print (lista_nuns)"
      ],
      "metadata": {
        "colab": {
          "base_uri": "https://localhost:8080/"
        },
        "id": "rVRPP8PFmqFF",
        "outputId": "abd649df-34d2-449f-a9bd-4ad18ce108f2"
      },
      "execution_count": null,
      "outputs": [
        {
          "output_type": "stream",
          "name": "stdout",
          "text": [
            "[1, 2, 3, 4, 5, 6, 7]\n"
          ]
        }
      ]
    },
    {
      "cell_type": "markdown",
      "source": [
        "aditando lista com append, insert e remove"
      ],
      "metadata": {
        "id": "mc27detOovf7"
      }
    },
    {
      "cell_type": "code",
      "source": [
        "#no append o elemento vai para a ultima posição da lista\n",
        "lista_nuns.append(8)\n",
        "print (lista_nuns)"
      ],
      "metadata": {
        "colab": {
          "base_uri": "https://localhost:8080/"
        },
        "id": "BAK7Upq8ou6t",
        "outputId": "e2984ecb-8606-4969-b12b-518e4a01550c"
      },
      "execution_count": null,
      "outputs": [
        {
          "output_type": "stream",
          "name": "stdout",
          "text": [
            "[1, 2, 3, 4, 5, 6, 7, 8]\n"
          ]
        }
      ]
    },
    {
      "cell_type": "code",
      "source": [
        "#no insert precisamos passar dois parametros para incluir o elemento na lista\n",
        "#insert(posição do elemente, elemento adicionado)\n",
        "lista_nuns.insert(0,0)\n",
        "print (lista_nuns)"
      ],
      "metadata": {
        "colab": {
          "base_uri": "https://localhost:8080/"
        },
        "id": "iXp2DOUppFSL",
        "outputId": "7433592c-818f-4ed3-9da0-e31d8034f90a"
      },
      "execution_count": null,
      "outputs": [
        {
          "output_type": "stream",
          "name": "stdout",
          "text": [
            "[0, 1, 2, 3, 4, 5, 6, 7, 8]\n"
          ]
        }
      ]
    },
    {
      "cell_type": "code",
      "source": [
        "#no remove só passamos o parametro da posição na qual queremos remover da lista\n",
        "lista_nuns.remove(8)\n",
        "print (lista_nuns)"
      ],
      "metadata": {
        "colab": {
          "base_uri": "https://localhost:8080/"
        },
        "id": "l638y_KtparL",
        "outputId": "2a4ec51d-0c7c-4233-deb0-94a8d877bce1"
      },
      "execution_count": null,
      "outputs": [
        {
          "output_type": "stream",
          "name": "stdout",
          "text": [
            "[0, 1, 2, 3, 4, 5, 6, 7]\n"
          ]
        }
      ]
    },
    {
      "cell_type": "code",
      "source": [
        "#modificando elementos da lista\n",
        "\n",
        "lista_2 = [10,20,30]\n",
        "print(lista_2)\n",
        "\n",
        "lista_2 [1] = 50\n",
        "print(lista_2)"
      ],
      "metadata": {
        "colab": {
          "base_uri": "https://localhost:8080/"
        },
        "id": "wHUUUfuuqazn",
        "outputId": "f77fa0ee-6c38-42d3-afbf-8f28e3b50d83"
      },
      "execution_count": null,
      "outputs": [
        {
          "output_type": "stream",
          "name": "stdout",
          "text": [
            "[10, 20, 30]\n",
            "[10, 50, 30]\n"
          ]
        }
      ]
    },
    {
      "cell_type": "code",
      "source": [
        "#concatenando listas\n",
        "lista_3 = [1,2,3]\n",
        "lista_4 = [4,5,6]\n",
        "lista_5 = lista_3 + lista_4\n",
        "print(lista_5)"
      ],
      "metadata": {
        "colab": {
          "base_uri": "https://localhost:8080/"
        },
        "id": "AAipCqWLqm37",
        "outputId": "514e4b87-1c9c-4893-9f8c-00c8c3724687"
      },
      "execution_count": null,
      "outputs": [
        {
          "output_type": "stream",
          "name": "stdout",
          "text": [
            "[1, 2, 3, 4, 5, 6]\n"
          ]
        }
      ]
    },
    {
      "cell_type": "code",
      "source": [
        "#pop remove o ultimo item da lista\n",
        "#a função .clear() limpa a lista\n",
        "removido = lista_5.pop()\n",
        "print(lista_5)\n",
        "print(f\"O elemento removido foi {removido}\")"
      ],
      "metadata": {
        "colab": {
          "base_uri": "https://localhost:8080/"
        },
        "id": "HuETU2S6rYaH",
        "outputId": "b7861f97-8af0-4efe-e5df-2e98278dceac"
      },
      "execution_count": null,
      "outputs": [
        {
          "output_type": "stream",
          "name": "stdout",
          "text": [
            "[1, 2, 3, 4]\n",
            "O elemento removido foi 5\n"
          ]
        }
      ]
    },
    {
      "cell_type": "code",
      "source": [
        "#slicing ou fatiamento, eu consigo pegar um indecie especifico da lita\n",
        "#por exemplo no codigo lista[2:] pego tudo do segundo elemento para frente\n",
        "#ou lista[2:7] vou pegar tudo entre o parametro solicitado\n",
        "lista = [0,1,2,3,4,5,6,7,8,9]\n",
        "\n",
        "sublista = lista[2:6]"
      ],
      "metadata": {
        "id": "epAxd8cf1BwL"
      },
      "execution_count": null,
      "outputs": []
    },
    {
      "cell_type": "code",
      "source": [
        "#contando tamanho da lista\n",
        "len(sublista)"
      ],
      "metadata": {
        "colab": {
          "base_uri": "https://localhost:8080/"
        },
        "id": "ufNUI73-5W-v",
        "outputId": "93c6e983-9807-4030-eee5-97860007f07f"
      },
      "execution_count": null,
      "outputs": [
        {
          "output_type": "execute_result",
          "data": {
            "text/plain": [
              "4"
            ]
          },
          "metadata": {},
          "execution_count": 21
        }
      ]
    },
    {
      "cell_type": "code",
      "source": [
        "#contando elementos da lista\n",
        "outra_lista = [1,2,3,3,3,3,3,3,3,2,1]\n",
        "outra_lista.count(1)"
      ],
      "metadata": {
        "colab": {
          "base_uri": "https://localhost:8080/"
        },
        "id": "r9VA24g15hO3",
        "outputId": "f082480a-286d-4fb9-9334-f3837497e4d9"
      },
      "execution_count": null,
      "outputs": [
        {
          "output_type": "execute_result",
          "data": {
            "text/plain": [
              "2"
            ]
          },
          "metadata": {},
          "execution_count": 24
        }
      ]
    },
    {
      "cell_type": "code",
      "source": [
        "#usando reverse\n",
        "lista.reverse()\n",
        "print(lista)"
      ],
      "metadata": {
        "colab": {
          "base_uri": "https://localhost:8080/"
        },
        "id": "9MynYyD46b_o",
        "outputId": "ce5deaa4-8a54-4f90-be89-ce1194954d46"
      },
      "execution_count": null,
      "outputs": [
        {
          "output_type": "stream",
          "name": "stdout",
          "text": [
            "[9, 8, 7, 6, 5, 4, 3, 2, 1, 0]\n"
          ]
        }
      ]
    },
    {
      "cell_type": "code",
      "source": [
        "#usando for em listas\n",
        "for i in lista:\n",
        "  print(i)"
      ],
      "metadata": {
        "colab": {
          "base_uri": "https://localhost:8080/"
        },
        "id": "OyZ0B4ze6UwR",
        "outputId": "f7e687f3-b411-4467-a626-d1113de24d81"
      },
      "execution_count": null,
      "outputs": [
        {
          "output_type": "stream",
          "name": "stdout",
          "text": [
            "9\n",
            "8\n",
            "7\n",
            "6\n",
            "5\n",
            "4\n",
            "3\n",
            "2\n",
            "1\n",
            "0\n"
          ]
        }
      ]
    },
    {
      "cell_type": "code",
      "source": [
        "soma = 0\n",
        "\n",
        "for n in lista:\n",
        "  soma += n\n",
        "\n",
        "print (soma)"
      ],
      "metadata": {
        "colab": {
          "base_uri": "https://localhost:8080/"
        },
        "id": "Cj9EjcaB7Txy",
        "outputId": "f6d7f121-04f5-4d84-e936-1f682606cd2c"
      },
      "execution_count": null,
      "outputs": [
        {
          "output_type": "stream",
          "name": "stdout",
          "text": [
            "45\n"
          ]
        }
      ]
    },
    {
      "cell_type": "code",
      "source": [
        "#usando while com lista\n",
        "lista_frutas = ['banana', 'abacaxi', 'manga','banana', 'ameixa', 'banana']\n",
        "frutaremovida = input(\"Digite uma fruta para ser removida da lista...\")\n",
        "while frutaremovida in lista_frutas:\n",
        "  lista_frutas.remove(frutaremovida)\n",
        "\n",
        "print(lista_frutas)"
      ],
      "metadata": {
        "colab": {
          "base_uri": "https://localhost:8080/"
        },
        "id": "WW8H5wcw8Gb5",
        "outputId": "49bcc8c9-4ed7-4797-c319-ff35b81d71a3"
      },
      "execution_count": null,
      "outputs": [
        {
          "output_type": "stream",
          "name": "stdout",
          "text": [
            "Digite uma fruta para ser removida da lista...manga\n",
            "['banana', 'abacaxi', 'banana', 'ameixa', 'banana']\n"
          ]
        }
      ]
    },
    {
      "cell_type": "markdown",
      "source": [
        "# MEXENDO COM TUPLAS\n"
      ],
      "metadata": {
        "id": "W_f7nMmz23aL"
      }
    },
    {
      "cell_type": "code",
      "source": [
        "tupla_numeros = (1,2,3,4,5,6,7)\n",
        "tupla_variadas = (\"banara\", 1, 2.5, True)\n",
        "tupla_numeros[2]"
      ],
      "metadata": {
        "colab": {
          "base_uri": "https://localhost:8080/"
        },
        "id": "vRFOvE0g263s",
        "outputId": "00c86113-dc5d-4bc6-de4d-9b9f47bd1e78"
      },
      "execution_count": null,
      "outputs": [
        {
          "output_type": "execute_result",
          "data": {
            "text/plain": [
              "3"
            ]
          },
          "metadata": {},
          "execution_count": 43
        }
      ]
    },
    {
      "cell_type": "code",
      "source": [
        "t1 = (1,2,3,4)\n",
        "t2 = (9,0)\n",
        "print (t1 + t2)"
      ],
      "metadata": {
        "id": "AEcYe0Mo3yuY",
        "colab": {
          "base_uri": "https://localhost:8080/"
        },
        "outputId": "1895ee1d-556e-49f8-f1ab-2948e4325f45"
      },
      "execution_count": null,
      "outputs": [
        {
          "output_type": "stream",
          "name": "stdout",
          "text": [
            "(1, 2, 3, 4, 9, 0)\n"
          ]
        }
      ]
    },
    {
      "cell_type": "code",
      "source": [
        "print (t2 * 10)"
      ],
      "metadata": {
        "colab": {
          "base_uri": "https://localhost:8080/"
        },
        "id": "1c_lS2kt1v5b",
        "outputId": "bb9f8292-6195-4e98-819f-08a281dbf743"
      },
      "execution_count": null,
      "outputs": [
        {
          "output_type": "stream",
          "name": "stdout",
          "text": [
            "(9, 0, 9, 0, 9, 0, 9, 0, 9, 0, 9, 0, 9, 0, 9, 0, 9, 0, 9, 0)\n"
          ]
        }
      ]
    },
    {
      "cell_type": "code",
      "source": [
        "t1 [1:3]"
      ],
      "metadata": {
        "colab": {
          "base_uri": "https://localhost:8080/"
        },
        "id": "B-opxzEA13xQ",
        "outputId": "a0abbd0b-06fc-4906-f80f-d349b0c97099"
      },
      "execution_count": null,
      "outputs": [
        {
          "output_type": "execute_result",
          "data": {
            "text/plain": [
              "(2, 3)"
            ]
          },
          "metadata": {},
          "execution_count": 5
        }
      ]
    },
    {
      "cell_type": "markdown",
      "source": [],
      "metadata": {
        "id": "WdMUpmib4FNZ"
      }
    },
    {
      "cell_type": "markdown",
      "source": [
        "# MEXENDO COM DICIONARIOS\n",
        "\n"
      ],
      "metadata": {
        "id": "FUS2TnGv4GCF"
      }
    },
    {
      "cell_type": "code",
      "source": [
        "dicionario_vazio = {}"
      ],
      "metadata": {
        "id": "Kxvv96mj4Zc4"
      },
      "execution_count": null,
      "outputs": []
    },
    {
      "cell_type": "code",
      "source": [
        "dicionario_pessoas = {\n",
        "    'nome': 'Bruno',\n",
        "    'idade': 30,\n",
        "    'cidade': 'São Paulo'\n",
        "}\n",
        "dicionario_pet = {\n",
        "    'animal': 'Cachorro',\n",
        "    'nome': 'Bob',\n",
        "    'idade': 3\n",
        "}\n",
        "print(dicionario_pessoas)\n",
        "print(dicionario_pet)\n",
        "print(f\"{dicionario_pessoas['nome']} tem um {dicionario_pet['animal']}\")"
      ],
      "metadata": {
        "colab": {
          "base_uri": "https://localhost:8080/"
        },
        "id": "rPKC2w-14i7A",
        "outputId": "61f4f431-fe4d-48c7-f481-1eff9287818e"
      },
      "execution_count": null,
      "outputs": [
        {
          "output_type": "stream",
          "name": "stdout",
          "text": [
            "{'nome': 'Bruno', 'idade': 30, 'cidade': 'São Paulo'}\n",
            "{'animal': 'Cachorro', 'nome': 'Bob', 'idade': 3}\n",
            "Bruno tem um Cachorro\n"
          ]
        }
      ]
    },
    {
      "cell_type": "code",
      "source": [
        "print(dicionario_pet['animal'])\n",
        "print(dicionario_pet['idade'])\n",
        "\n",
        "dicionario_pet['idade'] = 5\n",
        "\n",
        "print(dicionario_pet)\n",
        "\n",
        "dicionario_pet['sexo'] = \"macho\"\n",
        "print(dicionario_pet)\n",
        "\n",
        "#del dicionario_pet['nome']\n",
        "print(dicionario_pet)\n",
        "tem_chave_nome = 'nome' in dicionario_pet\n",
        "print(tem_chave_nome)\n",
        "tem_chave_sexo = 'sexo' in dicionario_pet\n",
        "print(tem_chave_sexo)\n"
      ],
      "metadata": {
        "colab": {
          "base_uri": "https://localhost:8080/"
        },
        "id": "C3AFJUP19oMT",
        "outputId": "4a76c760-b5da-43b3-94c1-de4878563d92"
      },
      "execution_count": null,
      "outputs": [
        {
          "output_type": "stream",
          "name": "stdout",
          "text": [
            "Cachorro\n",
            "5\n",
            "{'animal': 'Cachorro', 'idade': 5, 'sexo': 'macho'}\n",
            "{'animal': 'Cachorro', 'idade': 5, 'sexo': 'macho'}\n",
            "{'animal': 'Cachorro', 'idade': 5, 'sexo': 'macho'}\n",
            "False\n",
            "True\n"
          ]
        }
      ]
    },
    {
      "cell_type": "code",
      "source": [
        "if 'nome' in dicionario_pet:\n",
        "  print(dicionario_pet)"
      ],
      "metadata": {
        "id": "6VmV8tG2_hm8"
      },
      "execution_count": null,
      "outputs": []
    },
    {
      "cell_type": "markdown",
      "source": [
        "# MEXENDO COM FUNÇÕES\n"
      ],
      "metadata": {
        "id": "Boft2NvGFirZ"
      }
    },
    {
      "cell_type": "code",
      "source": [
        "def f(x):\n",
        "  print(x)\n",
        "\n",
        "f(1)\n"
      ],
      "metadata": {
        "colab": {
          "base_uri": "https://localhost:8080/"
        },
        "id": "kYj5MyyL9HHi",
        "outputId": "7cf2b316-5a52-47cc-cdee-48fb093b5dcb"
      },
      "execution_count": null,
      "outputs": [
        {
          "output_type": "stream",
          "name": "stdout",
          "text": [
            "1\n"
          ]
        }
      ]
    },
    {
      "cell_type": "code",
      "source": [
        "def nome_funcao(argumento):\n",
        "  resultado = argumento * 2\n",
        "  return resultado\n",
        "\n",
        "nome_funcao(2)"
      ],
      "metadata": {
        "colab": {
          "base_uri": "https://localhost:8080/"
        },
        "id": "hKZZAAcs9ZTL",
        "outputId": "6baeced0-0a17-45b9-849c-36d7096e97db"
      },
      "execution_count": null,
      "outputs": [
        {
          "output_type": "execute_result",
          "data": {
            "text/plain": [
              "4"
            ]
          },
          "metadata": {},
          "execution_count": 3
        }
      ]
    },
    {
      "cell_type": "code",
      "source": [
        "def saudar(nome):\n",
        "  print(f\"Olá {nome}, seja bem-vindo!\")\n",
        "\n",
        "saudar(\"Thiago\")\n",
        "saudar(\"Bruno\")\n",
        "saudar(\"Flora\")"
      ],
      "metadata": {
        "colab": {
          "base_uri": "https://localhost:8080/"
        },
        "id": "FVkB5Jc79trt",
        "outputId": "eb6ea0d6-182e-4159-fb48-911c3813e3e7"
      },
      "execution_count": null,
      "outputs": [
        {
          "output_type": "stream",
          "name": "stdout",
          "text": [
            "Olá Thiago, seja bem-vindp!\n",
            "Olá Bruno, seja bem-vindp!\n",
            "Olá Flora, seja bem-vindp!\n"
          ]
        }
      ]
    },
    {
      "cell_type": "code",
      "source": [
        "def boas_vindas(nome, cidade):\n",
        "  print(f\"Seja bem vindo {nome} de {cidade}\")\n",
        "\n",
        "boas_vindas(\"Thiago\", \"São Paulo\")"
      ],
      "metadata": {
        "colab": {
          "base_uri": "https://localhost:8080/"
        },
        "id": "FoCFiMTn-IF-",
        "outputId": "f407afe0-3848-4ebf-e6e6-0ea6a6edb254"
      },
      "execution_count": null,
      "outputs": [
        {
          "output_type": "stream",
          "name": "stdout",
          "text": [
            "Seja bem vindo Thiago de São Paulo\n"
          ]
        }
      ]
    },
    {
      "cell_type": "code",
      "source": [
        "def soma(a,b):\n",
        "  return a + b\n",
        "\n",
        "soma(93, 2)"
      ],
      "metadata": {
        "colab": {
          "base_uri": "https://localhost:8080/"
        },
        "id": "e0UBd2xG-jo8",
        "outputId": "e8ba4abc-fea7-4f57-c073-6979fee9f85b"
      },
      "execution_count": null,
      "outputs": [
        {
          "output_type": "execute_result",
          "data": {
            "text/plain": [
              "95"
            ]
          },
          "metadata": {},
          "execution_count": 17
        }
      ]
    },
    {
      "cell_type": "code",
      "source": [
        "def celsius_para_fahrenheit(celsius):\n",
        "  fahrenheit = (celsius * 9/5) + 32\n",
        "  return fahrenheit\n",
        "\n",
        "celsius_para_fahrenheit(24)"
      ],
      "metadata": {
        "colab": {
          "base_uri": "https://localhost:8080/"
        },
        "id": "CPEMqhPz-_OA",
        "outputId": "14f8dc9d-2f59-4334-80a5-4853877b685b"
      },
      "execution_count": null,
      "outputs": [
        {
          "output_type": "execute_result",
          "data": {
            "text/plain": [
              "75.2"
            ]
          },
          "metadata": {},
          "execution_count": 19
        }
      ]
    },
    {
      "cell_type": "markdown",
      "source": [
        "Argumentos posicionais, não os arg que logicamente são selecionados por posições\n",
        "podemos usar argumentos nomeados, como por exemplo\n",
        "def boas_vindas(nome, cidade):\n",
        "  print(f\"Seja bem vindo {nome} de {cidade}\")\n",
        "\n",
        "boas_vindas(\"Lucélia\", \"Thiago\")\n",
        "\n",
        "na função acima estamos usando argumento posicionais,o retonro vai ser seja bem vindo lucélia de são paulo\n",
        "\n",
        "usando argumentos nomeados, a função ficaria\n",
        "\n",
        "def boas_vindas(nome, cidade):\n",
        "  print(f\"Seja bem vindo {nome} de {cidade}\")\n",
        "\n",
        "boas_vindas(cidade =\"Lucélia\", nome=\"Thiago\")\n",
        "\n",
        "assim o retorno se mantem correndo independente da ordem de declaração dos argumentos  "
      ],
      "metadata": {
        "id": "CCjwaM5g_-1C"
      }
    },
    {
      "cell_type": "code",
      "source": [
        "def area_retangulo(largura, altura):\n",
        "  area = largura * altura\n",
        "  return area\n",
        "\n",
        "l = 10\n",
        "a = 6\n",
        "area_retangulo(l,a)\n"
      ],
      "metadata": {
        "colab": {
          "base_uri": "https://localhost:8080/"
        },
        "id": "VnCY64RrAz_a",
        "outputId": "8e23d23b-b6b1-43d7-b0b8-895bd6e78b11"
      },
      "execution_count": null,
      "outputs": [
        {
          "output_type": "execute_result",
          "data": {
            "text/plain": [
              "60"
            ]
          },
          "metadata": {},
          "execution_count": 21
        }
      ]
    },
    {
      "cell_type": "code",
      "source": [
        "#usando arg nomeados\n",
        "area_retangulo(altura = a, largura = l)"
      ],
      "metadata": {
        "colab": {
          "base_uri": "https://localhost:8080/"
        },
        "id": "rc7sYoWVBJnl",
        "outputId": "4c543e68-c30c-4a15-dde0-f279369831ea"
      },
      "execution_count": null,
      "outputs": [
        {
          "output_type": "execute_result",
          "data": {
            "text/plain": [
              "60"
            ]
          },
          "metadata": {},
          "execution_count": 22
        }
      ]
    },
    {
      "cell_type": "code",
      "source": [
        "def volume_cubo(largura, altura, comprimento):\n",
        "  return largura*altura*comprimento\n",
        "#Posicional\n",
        "volume_pos = volume_cubo(43,3,5)\n",
        "\n",
        "#nomeada\n",
        "volume_nome = volume_cubo(comprimento = 5, altura = 3, largura = 43)\n",
        "\n",
        "print(volume_pos)\n",
        "print(volume_nome)"
      ],
      "metadata": {
        "colab": {
          "base_uri": "https://localhost:8080/"
        },
        "id": "I7exSawvBZFj",
        "outputId": "a931eba4-a374-4264-f4fb-f9dc005bf0c7"
      },
      "execution_count": null,
      "outputs": [
        {
          "output_type": "stream",
          "name": "stdout",
          "text": [
            "645\n",
            "645\n"
          ]
        }
      ]
    },
    {
      "cell_type": "code",
      "source": [
        "def par_impar(numero):\n",
        "  if numero % 2 == 0:\n",
        "    return 'par'\n",
        "  else:\n",
        "    return 'impar'\n",
        "\n",
        "par_impar(23)"
      ],
      "metadata": {
        "id": "z34CZCccBifM",
        "colab": {
          "base_uri": "https://localhost:8080/",
          "height": 36
        },
        "outputId": "e3ea34d8-8539-44d7-84c8-6ad4b0d0eebd"
      },
      "execution_count": null,
      "outputs": [
        {
          "output_type": "execute_result",
          "data": {
            "text/plain": [
              "'impar'"
            ],
            "application/vnd.google.colaboratory.intrinsic+json": {
              "type": "string"
            }
          },
          "metadata": {},
          "execution_count": 3
        }
      ]
    },
    {
      "cell_type": "code",
      "source": [
        "def classifica_aluno(nota):\n",
        "  if nota >= 7:\n",
        "    return \"Aprovado\"\n",
        "  elif nota < 7 and nota >= 5:\n",
        "    return \"Recuperação\"\n",
        "  else:\n",
        "    return \"Reprovado\"\n",
        "\n",
        "classifica_aluno(4)"
      ],
      "metadata": {
        "colab": {
          "base_uri": "https://localhost:8080/",
          "height": 36
        },
        "id": "Uv-JeyLE9_pm",
        "outputId": "d049804a-987e-4329-8ef3-858557439a9f"
      },
      "execution_count": null,
      "outputs": [
        {
          "output_type": "execute_result",
          "data": {
            "text/plain": [
              "'Reprovado'"
            ],
            "application/vnd.google.colaboratory.intrinsic+json": {
              "type": "string"
            }
          },
          "metadata": {},
          "execution_count": 6
        }
      ]
    },
    {
      "cell_type": "code",
      "source": [
        "def boas_vindas(nome, cidade='Lucélia'):\n",
        "  print(f\"Seja bem vindo {nome} de {cidade}\")\n",
        "\n",
        "boas_vindas(\"Thiago\")\n",
        "#caso você passe o parametro cidade, ele não será salvo\n",
        "\n",
        "\"\"\"\n",
        "Envia uma mensagem de boas vindas\n",
        "\n",
        "   Args:\n",
        "        nome: Uma String\n",
        "        Cidade: Uma String (opcional, valor padrão é Lucélia)\n",
        "   Returns:\n",
        "        Uma String com a mensagem de boas vindas\n",
        "\"\"\""
      ],
      "metadata": {
        "colab": {
          "base_uri": "https://localhost:8080/",
          "height": 90
        },
        "id": "5nqH7TAWAiyJ",
        "outputId": "885ddb2c-f113-415e-a75a-ec04705325b3"
      },
      "execution_count": null,
      "outputs": [
        {
          "output_type": "stream",
          "name": "stdout",
          "text": [
            "Seja bem vindo Thiago de Lucélia\n"
          ]
        },
        {
          "output_type": "execute_result",
          "data": {
            "text/plain": [
              "'\\nEnvia uma mensagem de boas vindas  \\n\\n   Args: \\n        nome: Uma String\\n        Cidade: Uma String (opcional, valor padrão é Lucélia)\\n   Returns:\\n        Uma String com a mensagem de boas vindas\\n'"
            ],
            "application/vnd.google.colaboratory.intrinsic+json": {
              "type": "string"
            }
          },
          "metadata": {},
          "execution_count": 11
        }
      ]
    },
    {
      "cell_type": "markdown",
      "source": [
        "# TRATANDO ERROS\n",
        "\n"
      ],
      "metadata": {
        "id": "oWGc9Vr6G-rQ"
      }
    },
    {
      "cell_type": "code",
      "source": [
        "try:\n",
        "    print(x)\n",
        "except:\n",
        "    print(\"x não tem valor definido\")"
      ],
      "metadata": {
        "colab": {
          "base_uri": "https://localhost:8080/"
        },
        "id": "BYOX8VUvHERP",
        "outputId": "5c86e800-83a2-45e3-9b8e-d127ac2ec14c"
      },
      "execution_count": 12,
      "outputs": [
        {
          "output_type": "stream",
          "name": "stdout",
          "text": [
            "x não tem valor definido\n"
          ]
        }
      ]
    },
    {
      "cell_type": "code",
      "source": [
        "def convert_texto_numero(texto):\n",
        "    try:\n",
        "        return int(texto)\n",
        "    except:\n",
        "        print(\"Erro de conversão, não é possível converter texto para inteiro\")\n",
        "        return None\n",
        "\n",
        "convert_texto_numero(12)"
      ],
      "metadata": {
        "colab": {
          "base_uri": "https://localhost:8080/"
        },
        "id": "3yuN0Y_MHcN_",
        "outputId": "ca9fe6c8-717f-4e50-9a45-c565309c4017"
      },
      "execution_count": 7,
      "outputs": [
        {
          "output_type": "stream",
          "name": "stdout",
          "text": [
            "Erro de conversão, não é possível converter texto para inteiro\n"
          ]
        }
      ]
    }
  ],
  "metadata": {
    "colab": {
      "provenance": [],
      "collapsed_sections": [
        "sp2qiDlD-t_Q",
        "Ehsa0VvuFSYX",
        "nT4hU2HIzeRF",
        "JcLGwxEcbg3b",
        "W_f7nMmz23aL",
        "FUS2TnGv4GCF",
        "Boft2NvGFirZ"
      ],
      "include_colab_link": true
    },
    "kernelspec": {
      "display_name": "Python 3",
      "name": "python3"
    }
  },
  "nbformat": 4,
  "nbformat_minor": 0
}